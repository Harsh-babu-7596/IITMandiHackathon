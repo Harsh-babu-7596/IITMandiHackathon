{
 "cells": [
  {
   "cell_type": "code",
   "execution_count": 16,
   "id": "b61ac113",
   "metadata": {},
   "outputs": [],
   "source": [
    "import librosa\n",
    "import numpy as np\n",
    "import IPython.display as ipd\n",
    "import matplotlib.pyplot as plt\n",
    "import librosa.display\n",
    "import seaborn as sns\n",
    "import warnings\n",
    "from glob import glob\n",
    "import pandas as pd\n",
    "import pickle"
   ]
  },
  {
   "cell_type": "code",
   "execution_count": 17,
   "id": "8ba1369d",
   "metadata": {},
   "outputs": [],
   "source": [
    "langs = [\"Hindi\", \"Kannada\", \"Tamil\", \"Telugu\",\"Urdu\",\"Malayalam\", \"Bengali\", \"Marathi\", \"Punjabi\", \"Gujarati\"]\n",
    "mfccs_feature = []\n",
    "classes = []\n",
    "for lang in langs:\n",
    "    file_name = f\"{lang}_features.pkl\"\n",
    "    # print(f\"Shape of {file_name}: {np.array(features['features']).shape}\")\n",
    "    try:\n",
    "        with open(file_name, \"rb\") as f:\n",
    "            if file_name == \"Punjabi_features.pkl\":\n",
    "                features = pickle.load(f)\n",
    "                mfccs_feature += features[:5000]\n",
    "                classes += ([lang] * len(features[:5000]))\n",
    "            else:\n",
    "                features = pickle.load(f)\n",
    "                mfccs_feature+=features[\"features\"][:5000]\n",
    "                tot_lang=[lang]*len(features[\"features\"][:5000])\n",
    "                classes+=tot_lang\n",
    "    except FileNotFoundError:\n",
    "        print(f\"File {file_name} not found.\")\n",
    "\n",
    "df = pd.DataFrame({'MFCC_Features': mfccs_feature, 'Class': classes})"
   ]
  },
  {
   "cell_type": "code",
   "execution_count": 3,
   "id": "ed9ae46f",
   "metadata": {},
   "outputs": [],
   "source": [
    "# with open('Hindi_features.pkl', 'rb') as f:\n",
    "#     hindi_features = pickle.load(f)\n",
    "#     print(f\"Shape of Hindi features: {np.array(hindi_features['features']).shape}\")\n",
    "# with open('Kannada_features.pkl', 'rb') as f:\n",
    "#     kannada_features = pickle.load(f)\n",
    "#     print(f\"Shape of Kannada features: {np.array(kannada_features['features']).shape}\")\n",
    "# with open('Tamil_features.pkl', 'rb') as f:\n",
    "#     tamil_features = pickle.load(f)\n",
    "#     print(f\"Shape of Tamil features: {np.array(tamil_features['features']).shape}\")\n",
    "# with open('Telugu_features.pkl', 'rb') as f:\n",
    "#     telugu_features = pickle.load(f)\n",
    "#     print(f\"Shape of Telugu features: {np.array(telugu_features['features']).shape}\")\n",
    "# with open('Urdu_features.pkl', 'rb') as f:\n",
    "#     urdu_features = pickle.load(f)\n",
    "#     print(f\"Shape of Urdu features: {np.array(urdu_features['features']).shape}\")\n",
    "# with open('Malayalam_features.pkl', 'rb') as f:\n",
    "#     malayalam_features = pickle.load(f)\n",
    "#     print(f\"Shape of Malayalam features: {np.array(malayalam_features['features']).shape}\")\n",
    "# with open('Bengali_features.pkl', 'rb') as f:\n",
    "#     bengali_features = pickle.load(f)\n",
    "#     print(f\"Shape of Bengali features: {np.array(bengali_features['features']).shape}\")\n",
    "# with open('Marathi_features.pkl', 'rb') as f:\n",
    "#     marathi_features = pickle.load(f)\n",
    "#     print(f\"Shape of Marathi features: {np.array(marathi_features['features']).shape}\")\n",
    "# with open('Punjabi_features.pkl', 'rb') as f:\n",
    "#     punjabi_features = pickle.load(f)\n",
    "#     print(f\"Shape of Punjabi features: {len(punjabi_features)}\")\n"
   ]
  },
  {
   "cell_type": "code",
   "execution_count": 32,
   "id": "d0a090f9",
   "metadata": {},
   "outputs": [
    {
     "name": "stdout",
     "output_type": "stream",
     "text": [
      "(49697, 2)\n"
     ]
    },
    {
     "data": {
      "text/plain": [
       "Class\n",
       "Telugu       5000\n",
       "Malayalam    4999\n",
       "Marathi      4993\n",
       "Bengali      4992\n",
       "Tamil        4983\n",
       "Gujarati     4982\n",
       "Urdu         4971\n",
       "Kannada      4955\n",
       "Hindi        4953\n",
       "Punjabi      4869\n",
       "Name: count, dtype: int64"
      ]
     },
     "execution_count": 32,
     "metadata": {},
     "output_type": "execute_result"
    }
   ],
   "source": [
    "# df = pd.DataFrame({'MFCC_Features': mfccs_feature, 'Class': classes})\n",
    "# df.shape\n",
    "# print(df['Class'].unique())\n",
    "\n",
    "# df = df[df['Class'] != 'Punjabi']\n",
    "print(df.shape)\n",
    "df['Class'].value_counts()"
   ]
  },
  {
   "cell_type": "code",
   "execution_count": 33,
   "id": "ed1ef5e3",
   "metadata": {},
   "outputs": [
    {
     "name": "stdout",
     "output_type": "stream",
     "text": [
      "['Hindi' 'Kannada' 'Tamil' 'Telugu' 'Urdu' 'Malayalam' 'Bengali' 'Marathi'\n",
      " 'Punjabi' 'Gujarati']\n"
     ]
    },
    {
     "data": {
      "application/vnd.microsoft.datawrangler.viewer.v0+json": {
       "columns": [
        {
         "name": "index",
         "rawType": "int64",
         "type": "integer"
        },
        {
         "name": "MFCC_Features",
         "rawType": "object",
         "type": "unknown"
        },
        {
         "name": "Class",
         "rawType": "object",
         "type": "string"
        }
       ],
       "conversionMethod": "pd.DataFrame",
       "ref": "a5443978-f142-4bd7-81f7-2b55a91805d5",
       "rows": [
        [
         "11902",
         "[-263.7336      189.09041       1.627193      8.388803     15.075004\n    2.0318162    26.694914      9.481197    -13.829537      1.5020791\n   -0.3497113   -10.457259     -6.114921     -4.9870977    -5.3575034\n   -6.8941593    -5.9507575     1.550571      0.45369774   -6.408949\n   -7.4854302    -5.0188417    -1.9165293    -3.876768     -6.5267773\n   -2.2506595    -1.5410517    -5.310174     -3.7957773    -1.5181899\n   -2.8520553    -4.0617685    -2.518959     -0.816421     -3.757723\n   -6.375684     -3.5058286    -2.1752856    -4.483272     -4.592899  ]",
         "Tamil"
        ],
        [
         "4162",
         "[-3.34054657e+02  1.31655746e+02 -9.60266113e+00  6.16707954e+01\n  1.18792543e+01  8.09949398e+00  1.52099085e+01 -1.42108135e+01\n  1.40278368e+01  8.30897045e+00  5.33309317e+00  6.34437037e+00\n -4.91137123e+00  9.51005077e+00 -3.65263581e+00 -2.02611542e+00\n  7.93071795e+00 -6.02033424e+00  2.42644644e+00 -8.80144596e-01\n -2.36303568e+00  6.18070459e+00 -1.69625115e+00  1.72208035e+00\n  5.78498840e-02 -8.45598102e-01  2.19636178e+00 -5.46413517e+00\n -7.91712105e-01 -1.14414895e+00 -3.04561305e+00  1.44783485e+00\n -2.31553245e+00  5.36652625e-01 -2.42785066e-01 -2.55497122e+00\n -1.07698929e+00 -4.43380070e+00 -3.88362706e-01 -1.59296954e+00]",
         "Hindi"
        ],
        [
         "17736",
         "[-376.4621     151.25067    -28.79984      3.2704184   22.97026\n   13.990563    -5.80342     -1.8061492   11.482305   -19.341103\n   -1.3082004    8.737347   -27.780888    -9.185555     6.2534\n   -6.0262575   -7.461573   -11.068641    -3.8670468   -3.4767816\n   -7.590851    -3.1620605   -6.9194164   -4.971301    -4.38233\n   -8.495902    -6.216907    -4.5578237   -1.8298665   -5.6816235\n   -6.1495976   -1.0038376   -6.26787     -3.3017902   -0.4793127\n   -6.9984865   -3.1289294   -1.6280395   -5.114725    -3.5111215]",
         "Telugu"
        ],
        [
         "46682",
         "[-3.6799207e+02  1.3557188e+02  7.8631797e+00 -6.4568448e+00\n  9.6487036e+00  8.2515755e+00 -3.5251095e+00 -1.2325383e-01\n  9.8561555e-01 -7.5638928e+00 -2.5848439e+00  8.2345641e-01\n -3.0856981e+00 -4.3965731e+00 -2.0091176e+00 -4.3832421e+00\n -5.3921933e+00  6.6642958e-01 -6.9774336e-01 -3.3156946e+00\n -1.7734903e+00 -3.6813411e-01  6.3826382e-02 -8.3967525e-01\n -2.8354695e-01 -1.9546359e+00 -2.9981782e+00 -1.4385062e+00\n -1.3476920e+00 -1.2715222e+00 -1.0450670e+00 -1.4688673e+00\n -2.2532880e+00 -1.5747889e+00 -8.0051750e-01 -6.3503689e-01\n  5.5072069e-01  4.8365554e-01 -9.0991747e-01 -1.4460926e+00]",
         "Gujarati"
        ],
        [
         "38825",
         "[-2.83684753e+02  1.18693054e+02  4.52807713e+00  2.23878880e+01\n  1.60626621e+01 -7.39234781e+00  8.60380745e+00 -3.90588403e+00\n -1.98162155e+01 -7.17024612e+00 -1.28476200e+01 -4.58501196e+00\n -1.10229893e+01 -9.50067711e+00 -6.22873831e+00 -2.18192771e-01\n -5.25264454e+00  1.67035055e+00 -3.03676462e+00 -3.43179965e+00\n  3.47730696e-01  2.68994808e-01 -5.48050499e+00  1.43079555e+00\n -2.46928191e+00  5.02406776e-01 -2.14298844e+00 -4.25127363e+00\n -4.67001963e+00  1.49395573e+00 -3.98236275e+00 -2.16356516e+00\n -1.90374660e+00 -1.47743440e+00 -4.78873205e+00  3.69046539e-01\n -2.45461655e+00  2.80273390e+00  3.68113428e-01  2.04211330e+00]",
         "Marathi"
        ]
       ],
       "shape": {
        "columns": 2,
        "rows": 5
       }
      },
      "text/html": [
       "<div>\n",
       "<style scoped>\n",
       "    .dataframe tbody tr th:only-of-type {\n",
       "        vertical-align: middle;\n",
       "    }\n",
       "\n",
       "    .dataframe tbody tr th {\n",
       "        vertical-align: top;\n",
       "    }\n",
       "\n",
       "    .dataframe thead th {\n",
       "        text-align: right;\n",
       "    }\n",
       "</style>\n",
       "<table border=\"1\" class=\"dataframe\">\n",
       "  <thead>\n",
       "    <tr style=\"text-align: right;\">\n",
       "      <th></th>\n",
       "      <th>MFCC_Features</th>\n",
       "      <th>Class</th>\n",
       "    </tr>\n",
       "  </thead>\n",
       "  <tbody>\n",
       "    <tr>\n",
       "      <th>11902</th>\n",
       "      <td>[-263.7336, 189.09041, 1.627193, 8.388803, 15....</td>\n",
       "      <td>Tamil</td>\n",
       "    </tr>\n",
       "    <tr>\n",
       "      <th>4162</th>\n",
       "      <td>[-334.05466, 131.65575, -9.602661, 61.670795, ...</td>\n",
       "      <td>Hindi</td>\n",
       "    </tr>\n",
       "    <tr>\n",
       "      <th>17736</th>\n",
       "      <td>[-376.4621, 151.25067, -28.79984, 3.2704184, 2...</td>\n",
       "      <td>Telugu</td>\n",
       "    </tr>\n",
       "    <tr>\n",
       "      <th>46682</th>\n",
       "      <td>[-367.99207, 135.57188, 7.8631797, -6.456845, ...</td>\n",
       "      <td>Gujarati</td>\n",
       "    </tr>\n",
       "    <tr>\n",
       "      <th>38825</th>\n",
       "      <td>[-283.68475, 118.693054, 4.528077, 22.387888, ...</td>\n",
       "      <td>Marathi</td>\n",
       "    </tr>\n",
       "  </tbody>\n",
       "</table>\n",
       "</div>"
      ],
      "text/plain": [
       "                                           MFCC_Features     Class\n",
       "11902  [-263.7336, 189.09041, 1.627193, 8.388803, 15....     Tamil\n",
       "4162   [-334.05466, 131.65575, -9.602661, 61.670795, ...     Hindi\n",
       "17736  [-376.4621, 151.25067, -28.79984, 3.2704184, 2...    Telugu\n",
       "46682  [-367.99207, 135.57188, 7.8631797, -6.456845, ...  Gujarati\n",
       "38825  [-283.68475, 118.693054, 4.528077, 22.387888, ...   Marathi"
      ]
     },
     "execution_count": 33,
     "metadata": {},
     "output_type": "execute_result"
    }
   ],
   "source": [
    "new_df = df.sample(49697, random_state=42)\n",
    "print(df['Class'].unique())\n",
    "\n",
    "new_df.head()"
   ]
  },
  {
   "cell_type": "code",
   "execution_count": 34,
   "id": "558d30bc",
   "metadata": {},
   "outputs": [],
   "source": [
    "from sklearn.model_selection import train_test_split\n",
    "from sklearn.preprocessing import LabelEncoder\n",
    "from sklearn.metrics import confusion_matrix,ConfusionMatrixDisplay\n",
    "import torch.nn as nn\n",
    "import numpy as np\n",
    "import matplotlib.pyplot as plt\n",
    "import torch.nn as nn\n",
    "import math\n",
    "from torch import Tensor\n",
    "import torch\n",
    "from einops import rearrange\n",
    "import torch.nn.functional as F\n",
    "from einops.layers.torch import Rearrange,Reduce"
   ]
  },
  {
   "cell_type": "code",
   "execution_count": 35,
   "id": "684ede2d",
   "metadata": {},
   "outputs": [],
   "source": [
    "lbl = LabelEncoder()\n",
    "y = lbl.fit_transform(new_df['Class'])\n",
    "X = np.array(new_df['MFCC_Features'].tolist())\n",
    "y = np.array(y.tolist())\n",
    "\n",
    "X_train, X_test, y_train, y_test = train_test_split(X,y,test_size=0.2,random_state=42, stratify=y)"
   ]
  },
  {
   "cell_type": "code",
   "execution_count": 36,
   "id": "c74024f6",
   "metadata": {},
   "outputs": [],
   "source": [
    "class TransformerEncoderBlock(nn.Module):\n",
    "    def __init__(self, embed_dim, num_heads, expansion, dropout=0.1):\n",
    "        super(TransformerEncoderBlock, self).__init__()\n",
    "        \n",
    "        self.attention = nn.MultiheadAttention(embed_dim, num_heads, dropout=dropout)\n",
    "        self.norm1 = nn.LayerNorm(embed_dim)\n",
    "        self.dropout1 = nn.Dropout(dropout)\n",
    "\n",
    "        self.ff = nn.Sequential(\n",
    "            nn.Linear(embed_dim, expansion * embed_dim),\n",
    "            nn.ReLU(),\n",
    "            nn.Linear(expansion*embed_dim, embed_dim)\n",
    "        )\n",
    "        self.norm2 = nn.LayerNorm(embed_dim)\n",
    "        self.dropout2 = nn.Dropout(dropout)\n",
    "\n",
    "    def forward(self, x, src_mask=None, src_key_padding_mask=None):\n",
    "        attn_output, _ = self.attention(x, x, x, attn_mask=src_mask,\n",
    "                                        key_padding_mask=src_key_padding_mask)\n",
    "        x = x + self.dropout1(attn_output)\n",
    "        x = self.norm1(x)\n",
    "        ff_output = self.ff(x)\n",
    "        x = x + self.dropout2(ff_output)\n",
    "        x = self.norm2(x)\n",
    "\n",
    "        return x"
   ]
  },
  {
   "cell_type": "code",
   "execution_count": 37,
   "id": "294057ef",
   "metadata": {},
   "outputs": [],
   "source": [
    "class ClassificationHead(nn.Sequential):\n",
    "    def __init__(self, emb_size, n_classes):\n",
    "        super().__init__()\n",
    "        \n",
    "        self.fc = nn.Sequential(\n",
    "            nn.Linear(emb_size, 256),\n",
    "            nn.ELU(),\n",
    "            nn.Dropout(0.5),\n",
    "            nn.Linear(256, 32),\n",
    "            nn.ELU(),\n",
    "            nn.Dropout(0.3),\n",
    "            nn.Linear(32, n_classes),\n",
    "            nn.Softmax(dim=1)\n",
    "        )\n",
    "\n",
    "    def forward(self, x):\n",
    "        out = self.fc(x)\n",
    "        return out"
   ]
  },
  {
   "cell_type": "code",
   "execution_count": 38,
   "id": "1f821680",
   "metadata": {},
   "outputs": [],
   "source": [
    "class TransformerEncoder(nn.Sequential):\n",
    "    def __init__(self, depth, emb_size):\n",
    "        super().__init__(*[TransformerEncoderBlock(emb_size,num_heads=5,expansion=4) for _ in range(depth)])\n",
    "class Classifier(nn.Sequential):\n",
    "    def __init__(self, emb_size=40, depth=3, **kwargs):\n",
    "        super().__init__(\n",
    "            TransformerEncoder(depth, emb_size),\n",
    "            ClassificationHead(emb_size, 10)\n",
    "        )\n",
    "        "
   ]
  },
  {
   "cell_type": "code",
   "execution_count": 44,
   "id": "13622161",
   "metadata": {},
   "outputs": [
    {
     "name": "stdout",
     "output_type": "stream",
     "text": [
      "Epoch 1/100, Loss: 0.1336\n",
      "Epoch 2/100, Loss: 0.1227\n",
      "Epoch 3/100, Loss: 0.1186\n",
      "Epoch 4/100, Loss: 0.1165\n",
      "Epoch 5/100, Loss: 0.1150\n",
      "Epoch 6/100, Loss: 0.1141\n",
      "Epoch 7/100, Loss: 0.1132\n",
      "Epoch 8/100, Loss: 0.1125\n",
      "Epoch 9/100, Loss: 0.1120\n",
      "Epoch 10/100, Loss: 0.1114\n",
      "Epoch 11/100, Loss: 0.1105\n",
      "Epoch 12/100, Loss: 0.1098\n",
      "Epoch 13/100, Loss: 0.1092\n",
      "Epoch 14/100, Loss: 0.1085\n",
      "Epoch 15/100, Loss: 0.1081\n",
      "Epoch 16/100, Loss: 0.1077\n",
      "Epoch 17/100, Loss: 0.1072\n",
      "Epoch 18/100, Loss: 0.1068\n",
      "Epoch 19/100, Loss: 0.1063\n",
      "Epoch 20/100, Loss: 0.1060\n",
      "Epoch 21/100, Loss: 0.1056\n",
      "Epoch 22/100, Loss: 0.1054\n",
      "Epoch 23/100, Loss: 0.1051\n",
      "Epoch 24/100, Loss: 0.1047\n",
      "Epoch 25/100, Loss: 0.1044\n",
      "Epoch 26/100, Loss: 0.1043\n",
      "Epoch 27/100, Loss: 0.1041\n",
      "Epoch 28/100, Loss: 0.1039\n",
      "Epoch 29/100, Loss: 0.1036\n",
      "Epoch 30/100, Loss: 0.1033\n",
      "Epoch 31/100, Loss: 0.1033\n",
      "Epoch 32/100, Loss: 0.1030\n",
      "Epoch 33/100, Loss: 0.1028\n",
      "Epoch 34/100, Loss: 0.1026\n",
      "Epoch 35/100, Loss: 0.1025\n",
      "Epoch 36/100, Loss: 0.1024\n",
      "Epoch 37/100, Loss: 0.1021\n",
      "Epoch 38/100, Loss: 0.1021\n",
      "Epoch 39/100, Loss: 0.1020\n",
      "Epoch 40/100, Loss: 0.1019\n",
      "Epoch 41/100, Loss: 0.1016\n",
      "Epoch 42/100, Loss: 0.1016\n",
      "Epoch 43/100, Loss: 0.1013\n",
      "Epoch 44/100, Loss: 0.1011\n",
      "Epoch 45/100, Loss: 0.1010\n",
      "Epoch 46/100, Loss: 0.1008\n",
      "Epoch 47/100, Loss: 0.1008\n",
      "Epoch 48/100, Loss: 0.1006\n",
      "Epoch 49/100, Loss: 0.1005\n",
      "Epoch 50/100, Loss: 0.1004\n",
      "Epoch 51/100, Loss: 0.1001\n",
      "Epoch 52/100, Loss: 0.1001\n",
      "Epoch 53/100, Loss: 0.1001\n",
      "Epoch 54/100, Loss: 0.1000\n",
      "Epoch 55/100, Loss: 0.0997\n",
      "Epoch 56/100, Loss: 0.0997\n",
      "Epoch 57/100, Loss: 0.0995\n",
      "Epoch 58/100, Loss: 0.0995\n",
      "Epoch 59/100, Loss: 0.0994\n",
      "Epoch 60/100, Loss: 0.0993\n",
      "Epoch 61/100, Loss: 0.0993\n",
      "Epoch 62/100, Loss: 0.0992\n",
      "Epoch 63/100, Loss: 0.0991\n",
      "Epoch 64/100, Loss: 0.0990\n",
      "Epoch 65/100, Loss: 0.0988\n",
      "Epoch 66/100, Loss: 0.0988\n",
      "Epoch 67/100, Loss: 0.0988\n",
      "Epoch 68/100, Loss: 0.0987\n",
      "Epoch 69/100, Loss: 0.0987\n",
      "Epoch 70/100, Loss: 0.0987\n",
      "Epoch 71/100, Loss: 0.0986\n",
      "Epoch 72/100, Loss: 0.0985\n",
      "Epoch 73/100, Loss: 0.0985\n",
      "Epoch 74/100, Loss: 0.0982\n",
      "Epoch 75/100, Loss: 0.0983\n",
      "Epoch 76/100, Loss: 0.0982\n",
      "Epoch 77/100, Loss: 0.0982\n",
      "Epoch 78/100, Loss: 0.0980\n",
      "Epoch 79/100, Loss: 0.0981\n",
      "Epoch 80/100, Loss: 0.0980\n",
      "Epoch 81/100, Loss: 0.0979\n",
      "Epoch 82/100, Loss: 0.0979\n",
      "Epoch 83/100, Loss: 0.0979\n",
      "Epoch 84/100, Loss: 0.0977\n",
      "Epoch 85/100, Loss: 0.0978\n",
      "Epoch 86/100, Loss: 0.0977\n",
      "Epoch 87/100, Loss: 0.0977\n",
      "Epoch 88/100, Loss: 0.0976\n",
      "Epoch 89/100, Loss: 0.0975\n",
      "Epoch 90/100, Loss: 0.0974\n",
      "Epoch 91/100, Loss: 0.0975\n",
      "Epoch 92/100, Loss: 0.0974\n",
      "Epoch 93/100, Loss: 0.0974\n",
      "Epoch 94/100, Loss: 0.0974\n",
      "Epoch 95/100, Loss: 0.0973\n",
      "Epoch 96/100, Loss: 0.0973\n",
      "Epoch 97/100, Loss: 0.0972\n",
      "Epoch 98/100, Loss: 0.0971\n",
      "Epoch 99/100, Loss: 0.0972\n",
      "Epoch 100/100, Loss: 0.0971\n"
     ]
    }
   ],
   "source": [
    "# Ensure the model is on GPU\n",
    "device = torch.device(\"cuda\" if torch.cuda.is_available() else \"cpu\")\n",
    "device = \"cpu\"\n",
    "model = Classifier().to(device)\n",
    "\n",
    "# Define loss function and optimizer\n",
    "criterion = nn.CrossEntropyLoss()\n",
    "optimizer = torch.optim.Adam(model.parameters(), lr=0.0001)\n",
    "\n",
    "# Convert data to PyTorch tensors and move to GPU\n",
    "X_train_tensor = torch.tensor(X_train, dtype=torch.float32).to(device)\n",
    "y_train_tensor = torch.tensor(y_train, dtype=torch.long).to(device)\n",
    "\n",
    "# Training loop\n",
    "epochs = 100\n",
    "batch_size = 16\n",
    "for epoch in range(epochs):\n",
    "    model.train()\n",
    "    epoch_loss = 0\n",
    "    for i in range(0, len(X_train_tensor), batch_size):\n",
    "        X_batch = X_train_tensor[i:i+batch_size]\n",
    "        y_batch = y_train_tensor[i:i+batch_size]\n",
    "        \n",
    "        optimizer.zero_grad()\n",
    "        outputs = model(X_batch)\n",
    "        loss = criterion(outputs, y_batch)\n",
    "        loss.backward()\n",
    "        optimizer.step()\n",
    "        \n",
    "        epoch_loss += loss.item()\n",
    "    \n",
    "    print(f\"Epoch {epoch+1}/{epochs}, Loss: {epoch_loss/len(X_train_tensor):.4f}\")\n",
    "    torch.save(model.state_dict(), \"LOOOONG_TRAIN.pth\")"
   ]
  },
  {
   "cell_type": "code",
   "execution_count": 45,
   "id": "cf248cd6",
   "metadata": {},
   "outputs": [],
   "source": [
    "torch.save(model.state_dict(), \"LOOOONG_TRAIN.pth\")"
   ]
  },
  {
   "cell_type": "code",
   "execution_count": 46,
   "id": "ce50c741",
   "metadata": {},
   "outputs": [
    {
     "name": "stdout",
     "output_type": "stream",
     "text": [
      "(39757,)\n"
     ]
    }
   ],
   "source": [
    "print(y_train.shape)"
   ]
  },
  {
   "cell_type": "code",
   "execution_count": 47,
   "id": "36768f99",
   "metadata": {},
   "outputs": [
    {
     "name": "stdout",
     "output_type": "stream",
     "text": [
      "Accuracy: 0.8719\n"
     ]
    }
   ],
   "source": [
    "# Convert test data to PyTorch tensors and move to GPU\n",
    "X_test_tensor = torch.tensor(X_test, dtype=torch.float32).to(device)\n",
    "y_test_tensor = torch.tensor(y_test, dtype=torch.long).to(device)\n",
    "\n",
    "# Set the model to evaluation mode\n",
    "model.eval()\n",
    "\n",
    "# Get predictions\n",
    "with torch.no_grad():\n",
    "    outputs = model(X_test_tensor)\n",
    "    y_pred = torch.argmax(outputs, dim=1).cpu().numpy()\n",
    "\n",
    "# Evaluate the model\n",
    "accuracy = np.mean(y_pred == y_test)\n",
    "print(f\"Accuracy: {accuracy:.4f}\")"
   ]
  },
  {
   "cell_type": "code",
   "execution_count": 48,
   "id": "1fed42fd",
   "metadata": {},
   "outputs": [
    {
     "data": {
      "image/png": "[encoded data removed]",
      "text/plain": [
       "<Figure size 640x480 with 2 Axes>"
      ]
     },
     "metadata": {},
     "output_type": "display_data"
    }
   ],
   "source": [
    "cnf = confusion_matrix(y_test,y_pred)\n",
    "ConfusionMatrixDisplay(cnf,display_labels=lbl.classes_).plot()\n",
    "plt.xticks(rotation=90)\n",
    "plt.show()"
   ]
  },
  {
   "cell_type": "code",
   "execution_count": 66,
   "id": "aba96878",
   "metadata": {},
   "outputs": [
    {
     "name": "stdout",
     "output_type": "stream",
     "text": [
      "done\n"
     ]
    }
   ],
   "source": [
    "def normalize_amplitude(y):\n",
    "    \"\"\"Normalize audio signal to -1 to 1 range.\"\"\"\n",
    "    return y / np.max(np.abs(y))\n",
    "\n",
    "def fast_pitch_normalize(y, sr, target_pitch_hz=150.0):\n",
    "    # Estimate pitch using YIN\n",
    "    f0 = librosa.yin(y, fmin=librosa.note_to_hz('C2'), fmax=librosa.note_to_hz('C7'))\n",
    "    mean_pitch = np.mean(f0)\n",
    "\n",
    "    # Calculate semitone shift\n",
    "    n_steps = librosa.hz_to_midi(target_pitch_hz) - librosa.hz_to_midi(mean_pitch)\n",
    "\n",
    "    # Apply pitch shift\n",
    "    y_shifted = librosa.effects.pitch_shift(y, sr=sr, n_steps=n_steps)\n",
    "    return y_shifted\n",
    "\n",
    "def feature_extractor(file):\n",
    "    audio_data,sample_rate = librosa.load(file)\n",
    "    audio_data = normalize_amplitude(audio_data)\n",
    "    audio_data = fast_pitch_normalize(audio_data, sample_rate)\n",
    "    mfcc_feature = librosa.feature.mfcc(y=audio_data,sr=sample_rate,n_mfcc=40)\n",
    "    scaled_feature = np.mean(mfcc_feature.T,axis=0)\n",
    "    return scaled_feature\n",
    "\n",
    "mfccs_feature_custom = []\n",
    "classes_custom = []\n",
    "file = \"hindi_akshat.mp3\"\n",
    "mfccs_feature_custom.append(feature_extractor(file))\n",
    "classes_custom.append(\"Bengali\")\n",
    "\n",
    "\n",
    "print(\"done\")"
   ]
  },
  {
   "cell_type": "code",
   "execution_count": 67,
   "id": "2d99ac10",
   "metadata": {},
   "outputs": [
    {
     "name": "stdout",
     "output_type": "stream",
     "text": [
      "Predicted Classes: ['Punjabi']\n"
     ]
    }
   ],
   "source": [
    "# Convert mfccs_feature_custom to a PyTorch tensor and move to the appropriate device\n",
    "if mfccs_feature_custom:\n",
    "    custom_features_tensor = torch.tensor(mfccs_feature_custom, dtype=torch.float32).to(device)\n",
    "\n",
    "    # Forward pass through the model\n",
    "    model.eval()\n",
    "    with torch.no_grad():\n",
    "        custom_outputs = model(custom_features_tensor)\n",
    "        custom_predictions = torch.argmax(custom_outputs, dim=1).cpu().numpy()\n",
    "\n",
    "    # Map predictions back to class labels\n",
    "    predicted_classes = lbl.inverse_transform(custom_predictions)\n",
    "    print(f\"Predicted Classes: {predicted_classes}\")\n",
    "else:\n",
    "    print(\"No custom features available for forward pass.\")"
   ]
  },
  {
   "cell_type": "code",
   "execution_count": 54,
   "id": "8ef1cfaf",
   "metadata": {},
   "outputs": [
    {
     "name": "stdout",
     "output_type": "stream",
     "text": [
      "F1 Score: 0.9809\n"
     ]
    }
   ],
   "source": [
    "from sklearn.metrics import f1_score\n",
    "\n",
    "# Calculate F1 score\n",
    "f1 = f1_score(y_test, y_pred, average='weighted')\n",
    "print(f\"F1 Score: {f1:.4f}\")"
   ]
  }
 ],
 "metadata": {
  "kernelspec": {
   "display_name": "torch_gpu",
   "language": "python",
   "name": "python3"
  },
  "language_info": {
   "codemirror_mode": {
    "name": "ipython",
    "version": 3
   },
   "file_extension": ".py",
   "mimetype": "text/x-python",
   "name": "python",
   "nbconvert_exporter": "python",
   "pygments_lexer": "ipython3",
   "version": "3.10.16"
  }
 },
 "nbformat": 4,
 "nbformat_minor": 5
}

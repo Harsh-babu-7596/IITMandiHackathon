{
 "cells": [
  {
   "cell_type": "code",
   "execution_count": 2,
   "id": "0c0fcfe5",
   "metadata": {},
   "outputs": [
    {
     "name": "stdout",
     "output_type": "stream",
     "text": [
      "Kannada\n",
      "Marathi\n",
      "Punjabi\n",
      "Telugu\n",
      "Gujarati\n",
      "Malayalam\n",
      "Urdu\n",
      "Tamil\n",
      "Hindi\n",
      "Bengali\n",
      "10\n"
     ]
    }
   ],
   "source": [
    "import os\n",
    "audio_files = os.listdir(\"Language Detection Dataset\")\n",
    "for files in audio_files:\n",
    "    print(files)\n",
    "print(len(audio_files))"
   ]
  },
  {
   "cell_type": "code",
   "execution_count": 3,
   "id": "b61ac113",
   "metadata": {},
   "outputs": [],
   "source": [
    "import librosa\n",
    "import numpy as np\n",
    "import IPython.display as ipd\n",
    "import matplotlib.pyplot as plt\n",
    "import librosa.display\n",
    "import seaborn as sns\n",
    "import warnings\n",
    "from glob import glob\n",
    "import pandas as pd"
   ]
  },
  {
   "cell_type": "code",
   "execution_count": 4,
   "id": "bc7bf2b6",
   "metadata": {},
   "outputs": [],
   "source": [
    "def normalize_amplitude(y):\n",
    "    \"\"\"Normalize audio signal to -1 to 1 range.\"\"\"\n",
    "    return y / np.max(np.abs(y))\n",
    "\n",
    "def fast_pitch_normalize(y, sr, target_pitch_hz=150.0):\n",
    "    # Estimate pitch using YIN\n",
    "    f0 = librosa.yin(y, fmin=librosa.note_to_hz('C2'), fmax=librosa.note_to_hz('C7'))\n",
    "    mean_pitch = np.mean(f0)\n",
    "\n",
    "    # Calculate semitone shift\n",
    "    n_steps = librosa.hz_to_midi(target_pitch_hz) - librosa.hz_to_midi(mean_pitch)\n",
    "\n",
    "    # Apply pitch shift\n",
    "    y_shifted = librosa.effects.pitch_shift(y, sr=sr, n_steps=n_steps)\n",
    "    return y_shifted"
   ]
  },
  {
   "cell_type": "code",
   "execution_count": null,
   "id": "f24d83b2",
   "metadata": {},
   "outputs": [],
   "source": [
    "root_directory = \"Language Detection Dataset\"\n",
    "def feature_extractor(file):\n",
    "    audio_data,sample_rate = librosa.load(file)\n",
    "    audio_data = librosa.effects.trim(audio_data)\n",
    "    audio_data = normalize_amplitude(audio_data)\n",
    "    audio_data = fast_pitch_normalize(audio_data, sample_rate)\n",
    "    mfcc_feature = librosa.feature.mfcc(y=audio_data,sr=sample_rate,n_mfcc=40)\n",
    "    scaled_feature = np.mean(mfcc_feature.T,axis=0)\n",
    "    return scaled_feature"
   ]
  },
  {
   "cell_type": "code",
   "execution_count": 6,
   "id": "1e456562",
   "metadata": {},
   "outputs": [],
   "source": [
    "category = os.listdir(root_directory)\n"
   ]
  },
  {
   "cell_type": "code",
   "execution_count": 7,
   "id": "5e41f838",
   "metadata": {},
   "outputs": [
    {
     "name": "stderr",
     "output_type": "stream",
     "text": [
      "Processing Kannada:   4%|▍         | 209/5000 [00:08<03:06, 25.66it/s]/tmp/ipykernel_305538/3179299457.py:3: RuntimeWarning: invalid value encountered in divide\n",
      "  return y / np.max(np.abs(y))\n",
      "Processing Kannada: 100%|██████████| 5000/5000 [03:02<00:00, 27.35it/s]\n"
     ]
    },
    {
     "name": "stdout",
     "output_type": "stream",
     "text": [
      "For language Kannada: Features = 4955\n",
      "Kannada done\n"
     ]
    },
    {
     "name": "stderr",
     "output_type": "stream",
     "text": [
      "Processing Marathi: 100%|██████████| 5000/5000 [04:01<00:00, 20.70it/s]\n"
     ]
    },
    {
     "name": "stdout",
     "output_type": "stream",
     "text": [
      "For language Marathi: Features = 4993\n",
      "Marathi done\n"
     ]
    },
    {
     "name": "stderr",
     "output_type": "stream",
     "text": [
      "Processing Telugu: 100%|██████████| 5000/5000 [03:31<00:00, 23.63it/s]\n"
     ]
    },
    {
     "name": "stdout",
     "output_type": "stream",
     "text": [
      "For language Telugu: Features = 5000\n",
      "Telugu done\n"
     ]
    },
    {
     "name": "stderr",
     "output_type": "stream",
     "text": [
      "Processing Gujarati:  59%|█████▊    | 2931/5000 [01:58<01:23, 24.68it/s]/tmp/ipykernel_305538/4162959212.py:3: UserWarning: PySoundFile failed. Trying audioread instead.\n",
      "  audio_data,sample_rate = librosa.load(file)\n",
      "/home/teaching/miniconda3/envs/torch_gpu/lib/python3.10/site-packages/librosa/core/audio.py:184: FutureWarning: librosa.core.audio.__audioread_load\n",
      "\tDeprecated as of librosa version 0.10.0.\n",
      "\tIt will be removed in librosa version 1.0.\n",
      "  y, sr_native = __audioread_load(path, offset, duration, dtype)\n",
      "/tmp/ipykernel_305538/3179299457.py:3: RuntimeWarning: invalid value encountered in divide\n",
      "  return y / np.max(np.abs(y))\n",
      "Processing Gujarati: 100%|██████████| 5000/5000 [03:21<00:00, 24.78it/s]\n"
     ]
    },
    {
     "name": "stdout",
     "output_type": "stream",
     "text": [
      "For language Gujarati: Features = 4982\n",
      "Gujarati done\n"
     ]
    },
    {
     "name": "stderr",
     "output_type": "stream",
     "text": [
      "Processing Malayalam:  34%|███▍      | 1702/5000 [01:11<02:26, 22.46it/s]/home/teaching/miniconda3/envs/torch_gpu/lib/python3.10/site-packages/librosa/core/spectrum.py:266: UserWarning: n_fft=2048 is too large for input signal of length=361\n",
      "  warnings.warn(\n",
      "Processing Malayalam: 100%|██████████| 5000/5000 [03:30<00:00, 23.74it/s]\n"
     ]
    },
    {
     "name": "stdout",
     "output_type": "stream",
     "text": [
      "For language Malayalam: Features = 4999\n",
      "Malayalam done\n"
     ]
    },
    {
     "name": "stderr",
     "output_type": "stream",
     "text": [
      "Processing Urdu: 100%|██████████| 5000/5000 [03:54<00:00, 21.34it/s]\n"
     ]
    },
    {
     "name": "stdout",
     "output_type": "stream",
     "text": [
      "For language Urdu: Features = 4971\n",
      "Urdu done\n"
     ]
    },
    {
     "name": "stderr",
     "output_type": "stream",
     "text": [
      "Processing Tamil: 100%|██████████| 5000/5000 [03:37<00:00, 22.98it/s]\n"
     ]
    },
    {
     "name": "stdout",
     "output_type": "stream",
     "text": [
      "For language Tamil: Features = 4983\n",
      "Tamil done\n"
     ]
    },
    {
     "name": "stderr",
     "output_type": "stream",
     "text": [
      "Processing Hindi: 100%|██████████| 5000/5000 [03:21<00:00, 24.80it/s]\n"
     ]
    },
    {
     "name": "stdout",
     "output_type": "stream",
     "text": [
      "For language Hindi: Features = 4953\n",
      "Hindi done\n"
     ]
    },
    {
     "name": "stderr",
     "output_type": "stream",
     "text": [
      "Processing Bengali: 100%|██████████| 5000/5000 [03:43<00:00, 22.40it/s]"
     ]
    },
    {
     "name": "stdout",
     "output_type": "stream",
     "text": [
      "For language Bengali: Features = 4992\n",
      "Bengali done\n"
     ]
    },
    {
     "name": "stderr",
     "output_type": "stream",
     "text": [
      "\n"
     ]
    }
   ],
   "source": [
    "from tqdm import tqdm\n",
    "import pickle\n",
    "ParameterError = librosa.util.exceptions.ParameterError\n",
    "\n",
    "for folder in os.listdir(root_directory):\n",
    "    if folder in [\"Punjabi\"]:\n",
    "        continue\n",
    "    folder_path = os.path.join(root_directory,folder) \n",
    "        \n",
    "    mfccs_feature = []\n",
    "    classes = []\n",
    "    for file in tqdm(os.listdir(folder_path)[:5000], desc=f\"Processing {folder}\"):\n",
    "\n",
    "        try:\n",
    "            file_path = os.path.join(folder_path,file)\n",
    "            mfccs_feature.append(feature_extractor(file_path))\n",
    "            classes.append(folder)\n",
    "        except:\n",
    "            pass\n",
    "            \n",
    "    with open(f\"{folder}_features.pkl\", \"wb\") as f:\n",
    "        pickle.dump({'features': mfccs_feature, 'class': folder}, f)\n",
    "        print(f\"For language {folder}: Features = {len(mfccs_feature)}\")\n",
    "    print(folder, \"done\")\n"
   ]
  },
  {
   "cell_type": "code",
   "execution_count": null,
   "id": "d95ee5ad",
   "metadata": {},
   "outputs": [],
   "source": []
  },
  {
   "cell_type": "code",
   "execution_count": 7,
   "id": "29d91330",
   "metadata": {},
   "outputs": [
    {
     "name": "stdout",
     "output_type": "stream",
     "text": [
      "34880\n"
     ]
    }
   ],
   "source": [
    "print(len(mfccs_feature))"
   ]
  },
  {
   "cell_type": "code",
   "execution_count": 8,
   "id": "8ba1369d",
   "metadata": {},
   "outputs": [],
   "source": [
    "import pickle\n",
    "with open(\"mfccs_feature_corrected.pkl\", \"wb\") as f:\n",
    "    pickle.dump(mfccs_feature, f)"
   ]
  },
  {
   "cell_type": "code",
   "execution_count": 9,
   "id": "ddc9e50b",
   "metadata": {},
   "outputs": [],
   "source": [
    "with open(\"classes_corrected.pkl\", \"wb\") as f:\n",
    "    pickle.dump(classes, f)"
   ]
  },
  {
   "cell_type": "code",
   "execution_count": 10,
   "id": "d0a090f9",
   "metadata": {},
   "outputs": [
    {
     "data": {
      "text/plain": [
       "(34880, 2)"
      ]
     },
     "execution_count": 10,
     "metadata": {},
     "output_type": "execute_result"
    }
   ],
   "source": [
    "df = pd.DataFrame({'MFCC_Features': mfccs_feature, 'Class': classes})\n",
    "df.shape"
   ]
  },
  {
   "cell_type": "code",
   "execution_count": 11,
   "id": "ed1ef5e3",
   "metadata": {},
   "outputs": [
    {
     "ename": "ValueError",
     "evalue": "Cannot take a larger sample than population when 'replace=False'",
     "output_type": "error",
     "traceback": [
      "\u001b[0;31m---------------------------------------------------------------------------\u001b[0m",
      "\u001b[0;31mValueError\u001b[0m                                Traceback (most recent call last)",
      "Cell \u001b[0;32mIn[11], line 1\u001b[0m\n\u001b[0;32m----> 1\u001b[0m new_df \u001b[38;5;241m=\u001b[39m \u001b[43mdf\u001b[49m\u001b[38;5;241;43m.\u001b[39;49m\u001b[43msample\u001b[49m\u001b[43m(\u001b[49m\u001b[38;5;241;43m44999\u001b[39;49m\u001b[43m)\u001b[49m\n\u001b[1;32m      2\u001b[0m new_df\u001b[38;5;241m.\u001b[39mhead()\n",
      "File \u001b[0;32m~/miniconda3/envs/torch_gpu/lib/python3.10/site-packages/pandas/core/generic.py:6118\u001b[0m, in \u001b[0;36mNDFrame.sample\u001b[0;34m(self, n, frac, replace, weights, random_state, axis, ignore_index)\u001b[0m\n\u001b[1;32m   6115\u001b[0m \u001b[38;5;28;01mif\u001b[39;00m weights \u001b[38;5;129;01mis\u001b[39;00m \u001b[38;5;129;01mnot\u001b[39;00m \u001b[38;5;28;01mNone\u001b[39;00m:\n\u001b[1;32m   6116\u001b[0m     weights \u001b[38;5;241m=\u001b[39m sample\u001b[38;5;241m.\u001b[39mpreprocess_weights(\u001b[38;5;28mself\u001b[39m, weights, axis)\n\u001b[0;32m-> 6118\u001b[0m sampled_indices \u001b[38;5;241m=\u001b[39m \u001b[43msample\u001b[49m\u001b[38;5;241;43m.\u001b[39;49m\u001b[43msample\u001b[49m\u001b[43m(\u001b[49m\u001b[43mobj_len\u001b[49m\u001b[43m,\u001b[49m\u001b[43m \u001b[49m\u001b[43msize\u001b[49m\u001b[43m,\u001b[49m\u001b[43m \u001b[49m\u001b[43mreplace\u001b[49m\u001b[43m,\u001b[49m\u001b[43m \u001b[49m\u001b[43mweights\u001b[49m\u001b[43m,\u001b[49m\u001b[43m \u001b[49m\u001b[43mrs\u001b[49m\u001b[43m)\u001b[49m\n\u001b[1;32m   6119\u001b[0m result \u001b[38;5;241m=\u001b[39m \u001b[38;5;28mself\u001b[39m\u001b[38;5;241m.\u001b[39mtake(sampled_indices, axis\u001b[38;5;241m=\u001b[39maxis)\n\u001b[1;32m   6121\u001b[0m \u001b[38;5;28;01mif\u001b[39;00m ignore_index:\n",
      "File \u001b[0;32m~/miniconda3/envs/torch_gpu/lib/python3.10/site-packages/pandas/core/sample.py:152\u001b[0m, in \u001b[0;36msample\u001b[0;34m(obj_len, size, replace, weights, random_state)\u001b[0m\n\u001b[1;32m    149\u001b[0m     \u001b[38;5;28;01melse\u001b[39;00m:\n\u001b[1;32m    150\u001b[0m         \u001b[38;5;28;01mraise\u001b[39;00m \u001b[38;5;167;01mValueError\u001b[39;00m(\u001b[38;5;124m\"\u001b[39m\u001b[38;5;124mInvalid weights: weights sum to zero\u001b[39m\u001b[38;5;124m\"\u001b[39m)\n\u001b[0;32m--> 152\u001b[0m \u001b[38;5;28;01mreturn\u001b[39;00m \u001b[43mrandom_state\u001b[49m\u001b[38;5;241;43m.\u001b[39;49m\u001b[43mchoice\u001b[49m\u001b[43m(\u001b[49m\u001b[43mobj_len\u001b[49m\u001b[43m,\u001b[49m\u001b[43m \u001b[49m\u001b[43msize\u001b[49m\u001b[38;5;241;43m=\u001b[39;49m\u001b[43msize\u001b[49m\u001b[43m,\u001b[49m\u001b[43m \u001b[49m\u001b[43mreplace\u001b[49m\u001b[38;5;241;43m=\u001b[39;49m\u001b[43mreplace\u001b[49m\u001b[43m,\u001b[49m\u001b[43m \u001b[49m\u001b[43mp\u001b[49m\u001b[38;5;241;43m=\u001b[39;49m\u001b[43mweights\u001b[49m\u001b[43m)\u001b[49m\u001b[38;5;241m.\u001b[39mastype(\n\u001b[1;32m    153\u001b[0m     np\u001b[38;5;241m.\u001b[39mintp, copy\u001b[38;5;241m=\u001b[39m\u001b[38;5;28;01mFalse\u001b[39;00m\n\u001b[1;32m    154\u001b[0m )\n",
      "File \u001b[0;32mnumpy/random/mtrand.pyx:1001\u001b[0m, in \u001b[0;36mnumpy.random.mtrand.RandomState.choice\u001b[0;34m()\u001b[0m\n",
      "\u001b[0;31mValueError\u001b[0m: Cannot take a larger sample than population when 'replace=False'"
     ]
    }
   ],
   "source": [
    "new_df = df.sample(44999)\n",
    "new_df.head()"
   ]
  },
  {
   "cell_type": "code",
   "execution_count": null,
   "id": "558d30bc",
   "metadata": {},
   "outputs": [],
   "source": [
    "from sklearn.model_selection import train_test_split\n",
    "from sklearn.preprocessing import LabelEncoder\n",
    "from sklearn.metrics import confusion_matrix,ConfusionMatrixDisplay\n",
    "from tensorflow.keras.models import Sequential\n",
    "from tensorflow.keras.layers import Dropout,Dense"
   ]
  },
  {
   "cell_type": "code",
   "execution_count": null,
   "id": "684ede2d",
   "metadata": {},
   "outputs": [],
   "source": [
    "lbl = LabelEncoder()\n",
    "y = lbl.fit_transform(new_df['Class'])\n",
    "X = np.array(new_df['MFCC_Features'].tolist())\n",
    "y = np.array(y.tolist())\n",
    "\n",
    "X_train, X_test, y_train, y_test = train_test_split(X,y,test_size=0.2,random_state=42, stratify=y)"
   ]
  },
  {
   "cell_type": "code",
   "execution_count": null,
   "id": "c74024f6",
   "metadata": {},
   "outputs": [],
   "source": [
    "model = Sequential()\n",
    "model.add(Dense(100,activation='relu',input_shape=(40,)))\n",
    "model.add(Dropout(0.2))\n",
    "\n",
    "model.add(Dense(128,activation='relu'))\n",
    "model.add(Dropout(0.2))\n",
    "\n",
    "model.add(Dense(225,activation='relu'))\n",
    "model.add(Dropout(0.2))\n",
    "\n",
    "model.add(Dense(10,activation='softmax'))"
   ]
  },
  {
   "cell_type": "code",
   "execution_count": null,
   "id": "e0de325f",
   "metadata": {},
   "outputs": [
    {
     "name": "stdout",
     "output_type": "stream",
     "text": [
      "Epoch 1/40\n",
      "1125/1125 [==============================] - 3s 2ms/step - loss: 1.8157 - accuracy: 0.5186 - val_loss: 0.5528 - val_accuracy: 0.7857\n",
      "Epoch 2/40\n",
      "1125/1125 [==============================] - 2s 2ms/step - loss: 0.5956 - accuracy: 0.7712 - val_loss: 0.3459 - val_accuracy: 0.8408\n",
      "Epoch 3/40\n",
      "1125/1125 [==============================] - 2s 2ms/step - loss: 0.4344 - accuracy: 0.8136 - val_loss: 0.2913 - val_accuracy: 0.8566\n",
      "Epoch 4/40\n",
      "1125/1125 [==============================] - 2s 2ms/step - loss: 0.3746 - accuracy: 0.8329 - val_loss: 0.2462 - val_accuracy: 0.8662\n",
      "Epoch 5/40\n",
      "1125/1125 [==============================] - 2s 2ms/step - loss: 0.3417 - accuracy: 0.8426 - val_loss: 0.2411 - val_accuracy: 0.8740\n",
      "Epoch 6/40\n",
      "1125/1125 [==============================] - 2s 2ms/step - loss: 0.3210 - accuracy: 0.8510 - val_loss: 0.2225 - val_accuracy: 0.8742\n",
      "Epoch 7/40\n",
      "1125/1125 [==============================] - 2s 2ms/step - loss: 0.3055 - accuracy: 0.8529 - val_loss: 0.2247 - val_accuracy: 0.8738\n",
      "Epoch 8/40\n",
      "1125/1125 [==============================] - 2s 2ms/step - loss: 0.3008 - accuracy: 0.8537 - val_loss: 0.2127 - val_accuracy: 0.8791\n",
      "Epoch 9/40\n",
      "1125/1125 [==============================] - 2s 2ms/step - loss: 0.2891 - accuracy: 0.8567 - val_loss: 0.2152 - val_accuracy: 0.8816\n",
      "Epoch 10/40\n",
      "1125/1125 [==============================] - 2s 2ms/step - loss: 0.2832 - accuracy: 0.8584 - val_loss: 0.2162 - val_accuracy: 0.8779\n",
      "Epoch 11/40\n",
      "1125/1125 [==============================] - 2s 2ms/step - loss: 0.2731 - accuracy: 0.8605 - val_loss: 0.2177 - val_accuracy: 0.8790\n",
      "Epoch 12/40\n",
      "1125/1125 [==============================] - 2s 2ms/step - loss: 0.2748 - accuracy: 0.8619 - val_loss: 0.2153 - val_accuracy: 0.8818\n",
      "Epoch 13/40\n",
      "1125/1125 [==============================] - 2s 2ms/step - loss: 0.2726 - accuracy: 0.8626 - val_loss: 0.2070 - val_accuracy: 0.8831\n",
      "Epoch 14/40\n",
      "1125/1125 [==============================] - 2s 2ms/step - loss: 0.2639 - accuracy: 0.8668 - val_loss: 0.2075 - val_accuracy: 0.8821\n",
      "Epoch 15/40\n",
      "1125/1125 [==============================] - 2s 2ms/step - loss: 0.2575 - accuracy: 0.8679 - val_loss: 0.2073 - val_accuracy: 0.8811\n",
      "Epoch 16/40\n",
      "1125/1125 [==============================] - 2s 2ms/step - loss: 0.2630 - accuracy: 0.8663 - val_loss: 0.2027 - val_accuracy: 0.8759\n",
      "Epoch 17/40\n",
      "1125/1125 [==============================] - 2s 2ms/step - loss: 0.2604 - accuracy: 0.8653 - val_loss: 0.2079 - val_accuracy: 0.8810\n",
      "Epoch 18/40\n",
      "1125/1125 [==============================] - 2s 2ms/step - loss: 0.2568 - accuracy: 0.8682 - val_loss: 0.2010 - val_accuracy: 0.8843\n",
      "Epoch 19/40\n",
      "1125/1125 [==============================] - 2s 2ms/step - loss: 0.2512 - accuracy: 0.8696 - val_loss: 0.2091 - val_accuracy: 0.8803\n",
      "Epoch 20/40\n",
      "1125/1125 [==============================] - 2s 2ms/step - loss: 0.2539 - accuracy: 0.8697 - val_loss: 0.2053 - val_accuracy: 0.8834\n",
      "Epoch 21/40\n",
      "1125/1125 [==============================] - 2s 2ms/step - loss: 0.2532 - accuracy: 0.8684 - val_loss: 0.2036 - val_accuracy: 0.8834\n",
      "Epoch 22/40\n",
      "1125/1125 [==============================] - 2s 2ms/step - loss: 0.2534 - accuracy: 0.8683 - val_loss: 0.2021 - val_accuracy: 0.8822\n",
      "Epoch 23/40\n",
      "1125/1125 [==============================] - 2s 2ms/step - loss: 0.2485 - accuracy: 0.8687 - val_loss: 0.2045 - val_accuracy: 0.8829\n",
      "Epoch 24/40\n",
      "1125/1125 [==============================] - 2s 2ms/step - loss: 0.2477 - accuracy: 0.8691 - val_loss: 0.2068 - val_accuracy: 0.8829\n",
      "Epoch 25/40\n",
      "1125/1125 [==============================] - 2s 2ms/step - loss: 0.2457 - accuracy: 0.8719 - val_loss: 0.1975 - val_accuracy: 0.8838\n",
      "Epoch 26/40\n",
      "1125/1125 [==============================] - 2s 2ms/step - loss: 0.2471 - accuracy: 0.8711 - val_loss: 0.1992 - val_accuracy: 0.8834\n",
      "Epoch 27/40\n",
      "1125/1125 [==============================] - 2s 2ms/step - loss: 0.2462 - accuracy: 0.8707 - val_loss: 0.1950 - val_accuracy: 0.8853\n",
      "Epoch 28/40\n",
      "1125/1125 [==============================] - 2s 2ms/step - loss: 0.2479 - accuracy: 0.8711 - val_loss: 0.1992 - val_accuracy: 0.8877\n",
      "Epoch 29/40\n",
      "1125/1125 [==============================] - 2s 2ms/step - loss: 0.2447 - accuracy: 0.8734 - val_loss: 0.1944 - val_accuracy: 0.8837\n",
      "Epoch 30/40\n",
      "1125/1125 [==============================] - 2s 2ms/step - loss: 0.2450 - accuracy: 0.8716 - val_loss: 0.2008 - val_accuracy: 0.8841\n",
      "Epoch 31/40\n",
      "1125/1125 [==============================] - 2s 2ms/step - loss: 0.2435 - accuracy: 0.8709 - val_loss: 0.1962 - val_accuracy: 0.8869\n",
      "Epoch 32/40\n",
      "1125/1125 [==============================] - 2s 2ms/step - loss: 0.2415 - accuracy: 0.8724 - val_loss: 0.2060 - val_accuracy: 0.8808\n",
      "Epoch 33/40\n",
      "1125/1125 [==============================] - 2s 2ms/step - loss: 0.2440 - accuracy: 0.8705 - val_loss: 0.2020 - val_accuracy: 0.8842\n",
      "Epoch 34/40\n",
      "1125/1125 [==============================] - 2s 2ms/step - loss: 0.2417 - accuracy: 0.8724 - val_loss: 0.1975 - val_accuracy: 0.8832\n",
      "Epoch 35/40\n",
      "1125/1125 [==============================] - 2s 2ms/step - loss: 0.2381 - accuracy: 0.8703 - val_loss: 0.2036 - val_accuracy: 0.8819\n",
      "Epoch 36/40\n",
      "1125/1125 [==============================] - 2s 2ms/step - loss: 0.2438 - accuracy: 0.8688 - val_loss: 0.1948 - val_accuracy: 0.8834\n",
      "Epoch 37/40\n",
      "1125/1125 [==============================] - 2s 2ms/step - loss: 0.2403 - accuracy: 0.8740 - val_loss: 0.1942 - val_accuracy: 0.8832\n",
      "Epoch 38/40\n",
      "1125/1125 [==============================] - 2s 2ms/step - loss: 0.2374 - accuracy: 0.8716 - val_loss: 0.1974 - val_accuracy: 0.8830\n",
      "Epoch 39/40\n",
      "1125/1125 [==============================] - 2s 2ms/step - loss: 0.2384 - accuracy: 0.8732 - val_loss: 0.2068 - val_accuracy: 0.8807\n",
      "Epoch 40/40\n",
      "1125/1125 [==============================] - 2s 2ms/step - loss: 0.2397 - accuracy: 0.8724 - val_loss: 0.1924 - val_accuracy: 0.8828\n"
     ]
    }
   ],
   "source": [
    "model.compile(optimizer='adam',loss='sparse_categorical_crossentropy',metrics=['accuracy'])\n",
    "history = model.fit(X_train,y_train,epochs=40,batch_size=32,validation_data=(X_test,y_test))\n"
   ]
  },
  {
   "cell_type": "code",
   "execution_count": null,
   "id": "25970403",
   "metadata": {},
   "outputs": [
    {
     "data": {
      "text/plain": [
       "<Axes: >"
      ]
     },
     "execution_count": 16,
     "metadata": {},
     "output_type": "execute_result"
    },
    {
     "data": {
      "image/png": "[encoded data removed]",
      "text/plain": [
       "<Figure size 640x480 with 1 Axes>"
      ]
     },
     "metadata": {},
     "output_type": "display_data"
    }
   ],
   "source": [
    "history_df = pd.DataFrame({'accuracy': history.history['accuracy'], 'val_accuracy': history.history['val_accuracy']})\n",
    "history_df.plot()"
   ]
  },
  {
   "cell_type": "code",
   "execution_count": null,
   "id": "ddaf4a7d",
   "metadata": {},
   "outputs": [
    {
     "name": "stdout",
     "output_type": "stream",
     "text": [
      "282/282 [==============================] - 0s 738us/step - loss: 0.1924 - accuracy: 0.8828\n"
     ]
    },
    {
     "data": {
      "text/plain": [
       "[0.19237348437309265, 0.882777750492096]"
      ]
     },
     "execution_count": 17,
     "metadata": {},
     "output_type": "execute_result"
    }
   ],
   "source": [
    "model.evaluate(X_test,y_test)\n"
   ]
  },
  {
   "cell_type": "code",
   "execution_count": null,
   "id": "ba96e885",
   "metadata": {},
   "outputs": [
    {
     "name": "stdout",
     "output_type": "stream",
     "text": [
      "282/282 [==============================] - 0s 687us/step\n"
     ]
    },
    {
     "data": {
      "text/plain": [
       "array([9, 3, 7, ..., 7, 5, 3], dtype=int64)"
      ]
     },
     "execution_count": 19,
     "metadata": {},
     "output_type": "execute_result"
    }
   ],
   "source": [
    "y_pred = model.predict(X_test)\n",
    "y_pred = (y_pred>0.5).astype(int)\n",
    "y_pred = np.argmax(y_pred,axis=1)\n",
    "y_pred"
   ]
  },
  {
   "cell_type": "code",
   "execution_count": null,
   "id": "1fed42fd",
   "metadata": {},
   "outputs": [
    {
     "data": {
      "image/png": "[encoded data removed]",
      "text/plain": [
       "<Figure size 640x480 with 2 Axes>"
      ]
     },
     "metadata": {},
     "output_type": "display_data"
    }
   ],
   "source": [
    "cnf = confusion_matrix(y_test,y_pred)\n",
    "ConfusionMatrixDisplay(cnf,display_labels=lbl.classes_).plot()\n",
    "plt.xticks(rotation=90)\n",
    "plt.show()"
   ]
  },
  {
   "cell_type": "code",
   "execution_count": null,
   "id": "e4b8d161",
   "metadata": {},
   "outputs": [
    {
     "name": "stdout",
     "output_type": "stream",
     "text": [
      "282/282 [==============================] - 0s 670us/step\n"
     ]
    },
    {
     "data": {
      "text/plain": [
       "array([9, 3, 7, ..., 7, 5, 3], dtype=int64)"
      ]
     },
     "execution_count": 21,
     "metadata": {},
     "output_type": "execute_result"
    }
   ],
   "source": [
    "y_pred = model.predict(X_test)\n",
    "y_pred = (y_pred>0.5).astype(int)\n",
    "y_pred = np.argmax(y_pred,axis=1)\n",
    "y_pred\n"
   ]
  },
  {
   "cell_type": "code",
   "execution_count": null,
   "id": "a5741eb5",
   "metadata": {},
   "outputs": [],
   "source": [
    "lbl = LabelEncoder()\n",
    "y = lbl.fit_transform(new_df['Class'])\n",
    "X = np.array(new_df['MFCC_Features'].tolist())\n",
    "y = np.array(y.tolist())\n",
    "\n",
    "X_train, X_test, y_train, y_test = train_test_split(X,y,test_size=0.2,random_state=42, stratify=y)"
   ]
  }
 ],
 "metadata": {
  "kernelspec": {
   "display_name": "torch_gpu",
   "language": "python",
   "name": "python3"
  },
  "language_info": {
   "codemirror_mode": {
    "name": "ipython",
    "version": 3
   },
   "file_extension": ".py",
   "mimetype": "text/x-python",
   "name": "python",
   "nbconvert_exporter": "python",
   "pygments_lexer": "ipython3",
   "version": "3.10.16"
  }
 },
 "nbformat": 4,
 "nbformat_minor": 5
}

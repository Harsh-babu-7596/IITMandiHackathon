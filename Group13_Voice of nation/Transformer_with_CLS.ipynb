{
 "cells": [
  {
   "cell_type": "code",
   "execution_count": 8,
   "id": "46af43dd",
   "metadata": {},
   "outputs": [],
   "source": [
    "from transformers import Wav2Vec2Processor, Wav2Vec2Model\n",
    "import torch\n",
    "import librosa\n",
    "\n",
    "# Load model and processor\n",
    "processor = Wav2Vec2Processor.from_pretrained(\"facebook/wav2vec2-base\")\n",
    "model = Wav2Vec2Model.from_pretrained(\"facebook/wav2vec2-base\")\n"
   ]
  },
  {
   "cell_type": "code",
   "execution_count": 9,
   "id": "4e447db6",
   "metadata": {},
   "outputs": [],
   "source": [
    "# Load and preprocess audio\n",
    "audio, sr = librosa.load(\"hindi_akshat.mp3\", sr=16000)\n",
    "inputs = processor(audio, sampling_rate=16000, return_tensors=\"pt\")\n",
    "\n",
    "# Extract token embeddings\n",
    "with torch.no_grad():\n",
    "    outputs = model(**inputs)\n",
    "    tokens = outputs.last_hidden_state  # Shape: (batch_size, time_steps, hidden_dim)"
   ]
  },
  {
   "cell_type": "code",
   "execution_count": 10,
   "id": "4bd98926",
   "metadata": {},
   "outputs": [],
   "source": [
    "#tokens = tokens.reshape(-1, tokens.shape[-1]).shape  # Reshape to (num_tokens, hidden_dim)\n"
   ]
  },
  {
   "cell_type": "code",
   "execution_count": 52,
   "id": "e3d15a55",
   "metadata": {},
   "outputs": [],
   "source": [
    "import librosa\n",
    "import numpy as np\n",
    "import IPython.display as ipd\n",
    "import matplotlib.pyplot as plt\n",
    "import librosa.display\n",
    "import seaborn as sns\n",
    "import warnings\n",
    "from glob import glob\n",
    "import pandas as pd\n",
    "import pickle\n",
    "from sklearn.model_selection import train_test_split\n",
    "from sklearn.preprocessing import LabelEncoder\n",
    "from sklearn.metrics import confusion_matrix,ConfusionMatrixDisplay\n",
    "import torch.nn as nn\n",
    "import numpy as np\n",
    "import matplotlib.pyplot as plt\n",
    "import torch.nn as nn\n",
    "import math\n",
    "from torch import Tensor\n",
    "import torch\n",
    "from einops import rearrange\n",
    "import torch.nn.functional as F\n",
    "from einops.layers.torch import Rearrange,Reduce\n",
    "\n",
    "\n",
    "class TransformerEncoderBlock(nn.Module):\n",
    "    def __init__(self, embed_dim, num_heads, expansion, dropout=0.1):\n",
    "        super(TransformerEncoderBlock, self).__init__()\n",
    "        \n",
    "        self.attention = nn.MultiheadAttention(embed_dim, num_heads, dropout=dropout)\n",
    "        self.norm1 = nn.LayerNorm(embed_dim)\n",
    "        self.dropout1 = nn.Dropout(dropout)\n",
    "\n",
    "        self.ff = nn.Sequential(\n",
    "            nn.Linear(embed_dim, expansion * embed_dim),\n",
    "            nn.ReLU(),\n",
    "            nn.Linear(expansion*embed_dim, embed_dim)\n",
    "        )\n",
    "        self.norm2 = nn.LayerNorm(embed_dim)\n",
    "        self.dropout2 = nn.Dropout(dropout)\n",
    "\n",
    "    def forward(self, x, src_mask=None, src_key_padding_mask=None):\n",
    "        attn_output, _ = self.attention(x, x, x, attn_mask=src_mask,\n",
    "                                        key_padding_mask=src_key_padding_mask)\n",
    "        x = x + self.dropout1(attn_output)\n",
    "        x = self.norm1(x)\n",
    "        ff_output = self.ff(x)\n",
    "        x = x + self.dropout2(ff_output)\n",
    "        x = self.norm2(x)\n",
    "\n",
    "        return x\n",
    "    \n",
    "class ClassificationHead(nn.Sequential):\n",
    "    def __init__(self, emb_size, n_classes):\n",
    "        super().__init__()\n",
    "        \n",
    "        self.fc = nn.Sequential(\n",
    "            nn.Linear(emb_size, 256),\n",
    "            nn.ELU(),\n",
    "            nn.Dropout(0.5),\n",
    "            nn.Linear(256, 32),\n",
    "            nn.ELU(),\n",
    "            nn.Dropout(0.3),\n",
    "            nn.Linear(32, n_classes),\n",
    "            nn.Softmax(dim=2)\n",
    "            \n",
    "        )\n",
    "\n",
    "    def forward(self, x):\n",
    "        out = self.fc(x)\n",
    "        return out\n",
    "class TransformerEncoder(nn.Sequential):\n",
    "    def __init__(self, depth, emb_size):\n",
    "        super().__init__(*[TransformerEncoderBlock(emb_size,num_heads=6,expansion=4) for _ in range(depth)])\n",
    "class Classifier(nn.Sequential):\n",
    "    def __init__(self, emb_size=40, depth=3, **kwargs):\n",
    "        super().__init__(\n",
    "            TransformerEncoder(depth, emb_size),\n",
    "            ClassificationHead(emb_size, 9)\n",
    "        )\n",
    "\n",
    "class TransformerWithCLS(nn.Module):\n",
    "    def __init__(self, emb_size, depth=3, num_classes=9,src_key_padding_mask=None):\n",
    "        super().__init__()\n",
    "        self.cls_token = nn.Parameter(torch.randn(1, 1, emb_size))\n",
    "        self.transformer = TransformerEncoder(depth, emb_size)  # your custom encoder\n",
    "        self.classifier = ClassificationHead(emb_size, num_classes)\n",
    "\n",
    "    def forward(self, x, src_key_padding_mask=None):\n",
    "        B = x.size(0)\n",
    "        cls_tok = self.cls_token.expand(B, 1, -1)\n",
    "        x = torch.cat([cls_tok, x], dim=1)  # (B, seq_len + 1, emb_size)\n",
    "        x = x.transpose(0, 1)  # -> (seq_len + 1, B, emb_size)\n",
    "\n",
    "        if src_key_padding_mask is not None:\n",
    "            pad = torch.zeros((B, 1), dtype=src_key_padding_mask.dtype, device=src_key_padding_mask.device)\n",
    "            src_key_padding_mask = torch.cat([pad, src_key_padding_mask], dim=1)\n",
    "\n",
    "        x = self.transformer(x, src_key_padding_mask=src_key_padding_mask)\n",
    "        cls_out = x[0]  # Take output of CLS token (at position 0)\n",
    "        return self.classifier(cls_out)\n",
    "\n"
   ]
  },
  {
   "cell_type": "code",
   "execution_count": 36,
   "id": "c7702907",
   "metadata": {},
   "outputs": [],
   "source": [
    "from torch.utils.data import DataLoader, Dataset\n",
    "\n",
    "langs = [\"Hindi\", \"Kannada\", \"Tamil\", \"Telugu\",\"Urdu\",\"Malayalam\", \"Bengali\", \"Marathi\", \"Gujarati\"]\n",
    "mfccs_feature = []\n",
    "classes = []\n",
    "for lang in langs:\n",
    "    file_name = f\"{lang}_tokens.pkl\"\n",
    "    # print(f\"Shape of {file_name}: {np.array(features['features']).shape}\")\n",
    "    try:\n",
    "        with open(file_name, \"rb\") as f:\n",
    "            if file_name == \"Punjabi_features.pkl\":\n",
    "                features = pickle.load(f)\n",
    "                mfccs_feature += features[:500]\n",
    "                classes += ([lang] * len(features[:500]))\n",
    "            else:\n",
    "                features = pickle.load(f)\n",
    "                mfccs_feature+=features[\"tokens\"][:500]\n",
    "                tot_lang=[lang]*len(features[\"tokens\"][:500])\n",
    "                classes+=tot_lang\n",
    "    except FileNotFoundError:\n",
    "        print(f\"File {file_name} not found.\")\n",
    "\n",
    "df = pd.DataFrame({'MFCC_Features': mfccs_feature, 'Class': classes})\n"
   ]
  },
  {
   "cell_type": "code",
   "execution_count": 13,
   "id": "abe7e178",
   "metadata": {},
   "outputs": [
    {
     "name": "stdout",
     "output_type": "stream",
     "text": [
      "(4485, 2)\n"
     ]
    }
   ],
   "source": [
    "print(df.shape)"
   ]
  },
  {
   "cell_type": "code",
   "execution_count": 53,
   "id": "1d5463ce",
   "metadata": {},
   "outputs": [],
   "source": [
    "# Load the model weights\n",
    "model1 = Classifier(emb_size=768)\n",
    "model2 = TransformerWithCLS(emb_size=768, depth=3,num_classes=9)"
   ]
  },
  {
   "cell_type": "code",
   "execution_count": 54,
   "id": "f3d96800",
   "metadata": {},
   "outputs": [
    {
     "name": "stdout",
     "output_type": "stream",
     "text": [
      "torch.Size([1, 273, 768])\n",
      "(1, 273, 9)\n"
     ]
    },
    {
     "name": "stderr",
     "output_type": "stream",
     "text": [
      "/tmp/ipykernel_316584/2498360444.py:1: UserWarning: To copy construct from a tensor, it is recommended to use sourceTensor.clone().detach() or sourceTensor.clone().detach().requires_grad_(True), rather than torch.tensor(sourceTensor).\n",
      "  tokens_tensor = torch.tensor(tokens)\n"
     ]
    }
   ],
   "source": [
    "tokens_tensor = torch.tensor(tokens)\n",
    "print(tokens_tensor.shape)  # Print the shape of the tensor\n",
    "numpy_array = model1(tokens_tensor).detach().numpy()  # Convert to numpy array\n",
    "print(numpy_array.shape)  # Print the shape of the numpy array"
   ]
  },
  {
   "cell_type": "code",
   "execution_count": 55,
   "id": "56037a03",
   "metadata": {},
   "outputs": [],
   "source": [
    "new_df = df.sample(4485, random_state=42)\n"
   ]
  },
  {
   "cell_type": "code",
   "execution_count": 56,
   "id": "9904e558",
   "metadata": {},
   "outputs": [],
   "source": [
    "def fix_shape(tensor):\n",
    "    if tensor.dim() == 3 and tensor.shape[0] == 1:\n",
    "        return tensor.squeeze(0)\n",
    "    return tensor"
   ]
  },
  {
   "cell_type": "code",
   "execution_count": 57,
   "id": "6c225512",
   "metadata": {},
   "outputs": [],
   "source": [
    "lbl = LabelEncoder()\n",
    "y = lbl.fit_transform(new_df['Class'])\n",
    "#X = np.array(new_df['MFCC_Features'].tolist())\n",
    "#X = np.array([i.detach().numpy() for i in new_df['MFCC_Features']])\n",
    "X = new_df['MFCC_Features'].apply(fix_shape).to_numpy()\n",
    "\n",
    "y = np.array(y.tolist())\n",
    "\n",
    "X_train, X_test, y_train, y_test = train_test_split(X,y,test_size=0.2,random_state=42, stratify=y)"
   ]
  },
  {
   "cell_type": "code",
   "execution_count": 58,
   "id": "97277a4e",
   "metadata": {},
   "outputs": [
    {
     "name": "stdout",
     "output_type": "stream",
     "text": [
      "tensor([5, 5, 5, 5, 5, 5, 5, 5, 5, 5])\n",
      "tensor([[-0.1400, -0.1221,  0.2917,  ...,  0.2630,  0.2870, -0.3109],\n",
      "        [-0.1547, -0.1405,  0.2934,  ...,  0.4145,  0.3077, -0.4269],\n",
      "        [-0.1987, -0.1161,  0.2483,  ...,  0.3662,  0.2649, -0.3051],\n",
      "        ...,\n",
      "        [ 0.0411, -0.0408,  0.1974,  ...,  0.4705,  0.3183, -0.2484],\n",
      "        [ 0.0405, -0.0412,  0.2654,  ...,  0.4416,  0.3900, -0.2943],\n",
      "        [ 0.0977, -0.0576,  0.2818,  ...,  0.3450,  0.3696, -0.3721]])\n"
     ]
    }
   ],
   "source": [
    "print(torch.tensor([y_train[9] for i in range(10)])) ## number of classes hardcoded\n",
    "print(X_train[10])"
   ]
  },
  {
   "cell_type": "code",
   "execution_count": 59,
   "id": "fcdff846",
   "metadata": {},
   "outputs": [],
   "source": [
    "import torch\n",
    "from torch.utils.data import Dataset, DataLoader\n",
    "from torch.nn.utils.rnn import pad_sequence\n",
    "import torch.nn as nn\n",
    "import torch.optim as optim\n",
    "from sklearn.metrics import accuracy_score\n",
    "from tqdm import tqdm\n",
    "\n",
    "# ----------------------\n",
    "# Dataset\n",
    "# ----------------------\n",
    "class AudioDataset(Dataset):\n",
    "    def __init__(self, X, y):\n",
    "        self.X = X\n",
    "        self.y = y\n",
    "\n",
    "    def __len__(self):\n",
    "        return len(self.X)\n",
    "\n",
    "    def __getitem__(self, idx):\n",
    "        return torch.tensor(self.X[idx], dtype=torch.float32), torch.tensor(self.y[idx], dtype=torch.long)\n",
    "\n",
    "# ----------------------\n",
    "# Collate function with padding\n",
    "# ----------------------\n",
    "def collate_fn(batch):\n",
    "    sequences, labels = zip(*batch)\n",
    "\n",
    "    # DEBUG: Print sequence shapes before padding\n",
    "    print(\"Raw sequence lengths:\", [s.shape for s in sequences])\n",
    "\n",
    "    padded = pad_sequence(sequences, batch_first=True)\n",
    "    print(\"Padded batch shape:\", padded.shape)  # (B, max_seq_len, feature_dim)\n",
    "\n",
    "    lengths = torch.tensor([seq.shape[0] for seq in sequences])\n",
    "    max_len = padded.size(1)\n",
    "    pad_mask = torch.arange(max_len).expand(len(lengths), max_len) >= lengths.unsqueeze(1)\n",
    "\n",
    "    print(\"Padding mask shape:\", pad_mask.shape)  # (B, max_seq_len)\n",
    "\n",
    "    return padded, torch.tensor(labels), pad_mask\n",
    "\n",
    "\n",
    "# ----------------------\n",
    "# Training function\n",
    "# ----------------------\n",
    "def train_model(model, train_loader, test_loader, epochs=10, lr=1e-4, device='cuda'):\n",
    "    model = model.to(device)\n",
    "    optimizer = optim.Adam(model.parameters(), lr=lr)\n",
    "    criterion = nn.CrossEntropyLoss()\n",
    "\n",
    "    for epoch in range(epochs):\n",
    "        model.train()\n",
    "        total_loss = 0\n",
    "        for X_batch, y_batch, pad_mask in tqdm(train_loader, desc=f\"Epoch {epoch+1}/{epochs}\"):\n",
    "            X_batch, y_batch, pad_mask = X_batch.to(device), y_batch.to(device), pad_mask.to(device)\n",
    "            optimizer.zero_grad()\n",
    "            outputs = model(X_batch, src_key_padding_mask=pad_mask)\n",
    "            loss = criterion(outputs, y_batch)\n",
    "            loss.backward()\n",
    "            optimizer.step()\n",
    "            total_loss += loss.item()\n",
    "\n",
    "        print(f\"Epoch {epoch+1}: Train loss = {total_loss / len(train_loader):.4f}\")\n",
    "        \n",
    "        # Evaluation\n",
    "        model.eval()\n",
    "        all_preds = []\n",
    "        all_labels = []\n",
    "        with torch.no_grad():\n",
    "            for X_batch, y_batch, pad_mask in test_loader:\n",
    "                X_batch, y_batch, pad_mask = X_batch.to(device), y_batch.to(device), pad_mask.to(device)\n",
    "                outputs = model(X_batch, src_key_padding_mask=pad_mask)\n",
    "                preds = torch.argmax(outputs, dim=1)\n",
    "                all_preds.extend(preds.cpu().numpy())\n",
    "                all_labels.extend(y_batch.cpu().numpy())\n",
    "        acc = accuracy_score(all_labels, all_preds)\n",
    "        print(f\"Test Accuracy: {acc:.4f}\")\n",
    "\n"
   ]
  },
  {
   "cell_type": "code",
   "execution_count": 60,
   "id": "46a58750",
   "metadata": {},
   "outputs": [
    {
     "name": "stderr",
     "output_type": "stream",
     "text": [
      "Epoch 1/10:   0%|          | 0/113 [00:00<?, ?it/s]/tmp/ipykernel_316584/665725537.py:21: UserWarning: To copy construct from a tensor, it is recommended to use sourceTensor.clone().detach() or sourceTensor.clone().detach().requires_grad_(True), rather than torch.tensor(sourceTensor).\n",
      "  return torch.tensor(self.X[idx], dtype=torch.float32), torch.tensor(self.y[idx], dtype=torch.long)\n",
      "Epoch 1/10:   0%|          | 0/113 [00:00<?, ?it/s]"
     ]
    },
    {
     "name": "stdout",
     "output_type": "stream",
     "text": [
      "Raw sequence lengths: [torch.Size([249, 768]), torch.Size([248, 768]), torch.Size([248, 768]), torch.Size([250, 768]), torch.Size([248, 768]), torch.Size([248, 768]), torch.Size([248, 768]), torch.Size([244, 768]), torch.Size([250, 768]), torch.Size([249, 768]), torch.Size([248, 768]), torch.Size([239, 768]), torch.Size([244, 768]), torch.Size([248, 768]), torch.Size([244, 768]), torch.Size([248, 768]), torch.Size([248, 768]), torch.Size([249, 768]), torch.Size([248, 768]), torch.Size([248, 768]), torch.Size([248, 768]), torch.Size([250, 768]), torch.Size([248, 768]), torch.Size([245, 768]), torch.Size([249, 768]), torch.Size([248, 768]), torch.Size([250, 768]), torch.Size([248, 768]), torch.Size([248, 768]), torch.Size([249, 768]), torch.Size([248, 768]), torch.Size([221, 768])]\n",
      "Padded batch shape: torch.Size([32, 250, 768])\n",
      "Padding mask shape: torch.Size([32, 250])\n"
     ]
    },
    {
     "name": "stderr",
     "output_type": "stream",
     "text": [
      "\n"
     ]
    },
    {
     "ename": "TypeError",
     "evalue": "Sequential.forward() got an unexpected keyword argument 'src_key_padding_mask'",
     "output_type": "error",
     "traceback": [
      "\u001b[0;31m---------------------------------------------------------------------------\u001b[0m",
      "\u001b[0;31mTypeError\u001b[0m                                 Traceback (most recent call last)",
      "Cell \u001b[0;32mIn[60], line 7\u001b[0m\n\u001b[1;32m      4\u001b[0m train_loader \u001b[38;5;241m=\u001b[39m DataLoader(train_dataset, batch_size\u001b[38;5;241m=\u001b[39m\u001b[38;5;241m32\u001b[39m, shuffle\u001b[38;5;241m=\u001b[39m\u001b[38;5;28;01mTrue\u001b[39;00m, collate_fn\u001b[38;5;241m=\u001b[39mcollate_fn)\n\u001b[1;32m      5\u001b[0m test_loader \u001b[38;5;241m=\u001b[39m DataLoader(test_dataset, batch_size\u001b[38;5;241m=\u001b[39m\u001b[38;5;241m32\u001b[39m, shuffle\u001b[38;5;241m=\u001b[39m\u001b[38;5;28;01mFalse\u001b[39;00m, collate_fn\u001b[38;5;241m=\u001b[39mcollate_fn)\n\u001b[0;32m----> 7\u001b[0m \u001b[43mtrain_model\u001b[49m\u001b[43m(\u001b[49m\u001b[43mmodel2\u001b[49m\u001b[43m,\u001b[49m\u001b[43m \u001b[49m\u001b[43mtrain_loader\u001b[49m\u001b[43m,\u001b[49m\u001b[43m \u001b[49m\u001b[43mtest_loader\u001b[49m\u001b[43m,\u001b[49m\u001b[43m \u001b[49m\u001b[43mepochs\u001b[49m\u001b[38;5;241;43m=\u001b[39;49m\u001b[38;5;241;43m10\u001b[39;49m\u001b[43m,\u001b[49m\u001b[43m \u001b[49m\u001b[43mlr\u001b[49m\u001b[38;5;241;43m=\u001b[39;49m\u001b[38;5;241;43m1e-4\u001b[39;49m\u001b[43m,\u001b[49m\u001b[43m \u001b[49m\u001b[43mdevice\u001b[49m\u001b[38;5;241;43m=\u001b[39;49m\u001b[38;5;124;43m'\u001b[39;49m\u001b[38;5;124;43mcuda\u001b[39;49m\u001b[38;5;124;43m'\u001b[39;49m\u001b[43m \u001b[49m\u001b[38;5;28;43;01mif\u001b[39;49;00m\u001b[43m \u001b[49m\u001b[43mtorch\u001b[49m\u001b[38;5;241;43m.\u001b[39;49m\u001b[43mcuda\u001b[49m\u001b[38;5;241;43m.\u001b[39;49m\u001b[43mis_available\u001b[49m\u001b[43m(\u001b[49m\u001b[43m)\u001b[49m\u001b[43m \u001b[49m\u001b[38;5;28;43;01melse\u001b[39;49;00m\u001b[43m \u001b[49m\u001b[38;5;124;43m'\u001b[39;49m\u001b[38;5;124;43mcpu\u001b[39;49m\u001b[38;5;124;43m'\u001b[39;49m\u001b[43m)\u001b[49m\n",
      "Cell \u001b[0;32mIn[59], line 58\u001b[0m, in \u001b[0;36mtrain_model\u001b[0;34m(model, train_loader, test_loader, epochs, lr, device)\u001b[0m\n\u001b[1;32m     56\u001b[0m X_batch, y_batch, pad_mask \u001b[38;5;241m=\u001b[39m X_batch\u001b[38;5;241m.\u001b[39mto(device), y_batch\u001b[38;5;241m.\u001b[39mto(device), pad_mask\u001b[38;5;241m.\u001b[39mto(device)\n\u001b[1;32m     57\u001b[0m optimizer\u001b[38;5;241m.\u001b[39mzero_grad()\n\u001b[0;32m---> 58\u001b[0m outputs \u001b[38;5;241m=\u001b[39m \u001b[43mmodel\u001b[49m\u001b[43m(\u001b[49m\u001b[43mX_batch\u001b[49m\u001b[43m,\u001b[49m\u001b[43m \u001b[49m\u001b[43msrc_key_padding_mask\u001b[49m\u001b[38;5;241;43m=\u001b[39;49m\u001b[43mpad_mask\u001b[49m\u001b[43m)\u001b[49m\n\u001b[1;32m     59\u001b[0m loss \u001b[38;5;241m=\u001b[39m criterion(outputs, y_batch)\n\u001b[1;32m     60\u001b[0m loss\u001b[38;5;241m.\u001b[39mbackward()\n",
      "File \u001b[0;32m~/miniconda3/envs/torch_gpu/lib/python3.10/site-packages/torch/nn/modules/module.py:1736\u001b[0m, in \u001b[0;36mModule._wrapped_call_impl\u001b[0;34m(self, *args, **kwargs)\u001b[0m\n\u001b[1;32m   1734\u001b[0m     \u001b[38;5;28;01mreturn\u001b[39;00m \u001b[38;5;28mself\u001b[39m\u001b[38;5;241m.\u001b[39m_compiled_call_impl(\u001b[38;5;241m*\u001b[39margs, \u001b[38;5;241m*\u001b[39m\u001b[38;5;241m*\u001b[39mkwargs)  \u001b[38;5;66;03m# type: ignore[misc]\u001b[39;00m\n\u001b[1;32m   1735\u001b[0m \u001b[38;5;28;01melse\u001b[39;00m:\n\u001b[0;32m-> 1736\u001b[0m     \u001b[38;5;28;01mreturn\u001b[39;00m \u001b[38;5;28;43mself\u001b[39;49m\u001b[38;5;241;43m.\u001b[39;49m\u001b[43m_call_impl\u001b[49m\u001b[43m(\u001b[49m\u001b[38;5;241;43m*\u001b[39;49m\u001b[43margs\u001b[49m\u001b[43m,\u001b[49m\u001b[43m \u001b[49m\u001b[38;5;241;43m*\u001b[39;49m\u001b[38;5;241;43m*\u001b[39;49m\u001b[43mkwargs\u001b[49m\u001b[43m)\u001b[49m\n",
      "File \u001b[0;32m~/miniconda3/envs/torch_gpu/lib/python3.10/site-packages/torch/nn/modules/module.py:1747\u001b[0m, in \u001b[0;36mModule._call_impl\u001b[0;34m(self, *args, **kwargs)\u001b[0m\n\u001b[1;32m   1742\u001b[0m \u001b[38;5;66;03m# If we don't have any hooks, we want to skip the rest of the logic in\u001b[39;00m\n\u001b[1;32m   1743\u001b[0m \u001b[38;5;66;03m# this function, and just call forward.\u001b[39;00m\n\u001b[1;32m   1744\u001b[0m \u001b[38;5;28;01mif\u001b[39;00m \u001b[38;5;129;01mnot\u001b[39;00m (\u001b[38;5;28mself\u001b[39m\u001b[38;5;241m.\u001b[39m_backward_hooks \u001b[38;5;129;01mor\u001b[39;00m \u001b[38;5;28mself\u001b[39m\u001b[38;5;241m.\u001b[39m_backward_pre_hooks \u001b[38;5;129;01mor\u001b[39;00m \u001b[38;5;28mself\u001b[39m\u001b[38;5;241m.\u001b[39m_forward_hooks \u001b[38;5;129;01mor\u001b[39;00m \u001b[38;5;28mself\u001b[39m\u001b[38;5;241m.\u001b[39m_forward_pre_hooks\n\u001b[1;32m   1745\u001b[0m         \u001b[38;5;129;01mor\u001b[39;00m _global_backward_pre_hooks \u001b[38;5;129;01mor\u001b[39;00m _global_backward_hooks\n\u001b[1;32m   1746\u001b[0m         \u001b[38;5;129;01mor\u001b[39;00m _global_forward_hooks \u001b[38;5;129;01mor\u001b[39;00m _global_forward_pre_hooks):\n\u001b[0;32m-> 1747\u001b[0m     \u001b[38;5;28;01mreturn\u001b[39;00m \u001b[43mforward_call\u001b[49m\u001b[43m(\u001b[49m\u001b[38;5;241;43m*\u001b[39;49m\u001b[43margs\u001b[49m\u001b[43m,\u001b[49m\u001b[43m \u001b[49m\u001b[38;5;241;43m*\u001b[39;49m\u001b[38;5;241;43m*\u001b[39;49m\u001b[43mkwargs\u001b[49m\u001b[43m)\u001b[49m\n\u001b[1;32m   1749\u001b[0m result \u001b[38;5;241m=\u001b[39m \u001b[38;5;28;01mNone\u001b[39;00m\n\u001b[1;32m   1750\u001b[0m called_always_called_hooks \u001b[38;5;241m=\u001b[39m \u001b[38;5;28mset\u001b[39m()\n",
      "Cell \u001b[0;32mIn[52], line 99\u001b[0m, in \u001b[0;36mTransformerWithCLS.forward\u001b[0;34m(self, x, src_key_padding_mask)\u001b[0m\n\u001b[1;32m     96\u001b[0m     pad \u001b[38;5;241m=\u001b[39m torch\u001b[38;5;241m.\u001b[39mzeros((B, \u001b[38;5;241m1\u001b[39m), dtype\u001b[38;5;241m=\u001b[39msrc_key_padding_mask\u001b[38;5;241m.\u001b[39mdtype, device\u001b[38;5;241m=\u001b[39msrc_key_padding_mask\u001b[38;5;241m.\u001b[39mdevice)\n\u001b[1;32m     97\u001b[0m     src_key_padding_mask \u001b[38;5;241m=\u001b[39m torch\u001b[38;5;241m.\u001b[39mcat([pad, src_key_padding_mask], dim\u001b[38;5;241m=\u001b[39m\u001b[38;5;241m1\u001b[39m)\n\u001b[0;32m---> 99\u001b[0m x \u001b[38;5;241m=\u001b[39m \u001b[38;5;28;43mself\u001b[39;49m\u001b[38;5;241;43m.\u001b[39;49m\u001b[43mtransformer\u001b[49m\u001b[43m(\u001b[49m\u001b[43mx\u001b[49m\u001b[43m,\u001b[49m\u001b[43m \u001b[49m\u001b[43msrc_key_padding_mask\u001b[49m\u001b[38;5;241;43m=\u001b[39;49m\u001b[43msrc_key_padding_mask\u001b[49m\u001b[43m)\u001b[49m\n\u001b[1;32m    100\u001b[0m cls_out \u001b[38;5;241m=\u001b[39m x[\u001b[38;5;241m0\u001b[39m]  \u001b[38;5;66;03m# Take output of CLS token (at position 0)\u001b[39;00m\n\u001b[1;32m    101\u001b[0m \u001b[38;5;28;01mreturn\u001b[39;00m \u001b[38;5;28mself\u001b[39m\u001b[38;5;241m.\u001b[39mclassifier(cls_out)\n",
      "File \u001b[0;32m~/miniconda3/envs/torch_gpu/lib/python3.10/site-packages/torch/nn/modules/module.py:1736\u001b[0m, in \u001b[0;36mModule._wrapped_call_impl\u001b[0;34m(self, *args, **kwargs)\u001b[0m\n\u001b[1;32m   1734\u001b[0m     \u001b[38;5;28;01mreturn\u001b[39;00m \u001b[38;5;28mself\u001b[39m\u001b[38;5;241m.\u001b[39m_compiled_call_impl(\u001b[38;5;241m*\u001b[39margs, \u001b[38;5;241m*\u001b[39m\u001b[38;5;241m*\u001b[39mkwargs)  \u001b[38;5;66;03m# type: ignore[misc]\u001b[39;00m\n\u001b[1;32m   1735\u001b[0m \u001b[38;5;28;01melse\u001b[39;00m:\n\u001b[0;32m-> 1736\u001b[0m     \u001b[38;5;28;01mreturn\u001b[39;00m \u001b[38;5;28;43mself\u001b[39;49m\u001b[38;5;241;43m.\u001b[39;49m\u001b[43m_call_impl\u001b[49m\u001b[43m(\u001b[49m\u001b[38;5;241;43m*\u001b[39;49m\u001b[43margs\u001b[49m\u001b[43m,\u001b[49m\u001b[43m \u001b[49m\u001b[38;5;241;43m*\u001b[39;49m\u001b[38;5;241;43m*\u001b[39;49m\u001b[43mkwargs\u001b[49m\u001b[43m)\u001b[49m\n",
      "File \u001b[0;32m~/miniconda3/envs/torch_gpu/lib/python3.10/site-packages/torch/nn/modules/module.py:1747\u001b[0m, in \u001b[0;36mModule._call_impl\u001b[0;34m(self, *args, **kwargs)\u001b[0m\n\u001b[1;32m   1742\u001b[0m \u001b[38;5;66;03m# If we don't have any hooks, we want to skip the rest of the logic in\u001b[39;00m\n\u001b[1;32m   1743\u001b[0m \u001b[38;5;66;03m# this function, and just call forward.\u001b[39;00m\n\u001b[1;32m   1744\u001b[0m \u001b[38;5;28;01mif\u001b[39;00m \u001b[38;5;129;01mnot\u001b[39;00m (\u001b[38;5;28mself\u001b[39m\u001b[38;5;241m.\u001b[39m_backward_hooks \u001b[38;5;129;01mor\u001b[39;00m \u001b[38;5;28mself\u001b[39m\u001b[38;5;241m.\u001b[39m_backward_pre_hooks \u001b[38;5;129;01mor\u001b[39;00m \u001b[38;5;28mself\u001b[39m\u001b[38;5;241m.\u001b[39m_forward_hooks \u001b[38;5;129;01mor\u001b[39;00m \u001b[38;5;28mself\u001b[39m\u001b[38;5;241m.\u001b[39m_forward_pre_hooks\n\u001b[1;32m   1745\u001b[0m         \u001b[38;5;129;01mor\u001b[39;00m _global_backward_pre_hooks \u001b[38;5;129;01mor\u001b[39;00m _global_backward_hooks\n\u001b[1;32m   1746\u001b[0m         \u001b[38;5;129;01mor\u001b[39;00m _global_forward_hooks \u001b[38;5;129;01mor\u001b[39;00m _global_forward_pre_hooks):\n\u001b[0;32m-> 1747\u001b[0m     \u001b[38;5;28;01mreturn\u001b[39;00m \u001b[43mforward_call\u001b[49m\u001b[43m(\u001b[49m\u001b[38;5;241;43m*\u001b[39;49m\u001b[43margs\u001b[49m\u001b[43m,\u001b[49m\u001b[43m \u001b[49m\u001b[38;5;241;43m*\u001b[39;49m\u001b[38;5;241;43m*\u001b[39;49m\u001b[43mkwargs\u001b[49m\u001b[43m)\u001b[49m\n\u001b[1;32m   1749\u001b[0m result \u001b[38;5;241m=\u001b[39m \u001b[38;5;28;01mNone\u001b[39;00m\n\u001b[1;32m   1750\u001b[0m called_always_called_hooks \u001b[38;5;241m=\u001b[39m \u001b[38;5;28mset\u001b[39m()\n",
      "\u001b[0;31mTypeError\u001b[0m: Sequential.forward() got an unexpected keyword argument 'src_key_padding_mask'"
     ]
    }
   ],
   "source": [
    "train_dataset = AudioDataset(X_train, y_train)\n",
    "test_dataset = AudioDataset(X_test, y_test)\n",
    "\n",
    "train_loader = DataLoader(train_dataset, batch_size=32, shuffle=True, collate_fn=collate_fn)\n",
    "test_loader = DataLoader(test_dataset, batch_size=32, shuffle=False, collate_fn=collate_fn)\n",
    "\n",
    "train_model(model2, train_loader, test_loader, epochs=10, lr=1e-4, device='cuda' if torch.cuda.is_available() else 'cpu')\n"
   ]
  },
  {
   "cell_type": "code",
   "execution_count": 22,
   "id": "bee0e112",
   "metadata": {},
   "outputs": [
    {
     "name": "stderr",
     "output_type": "stream",
     "text": [
      "Epoch 1/10: 100%|██████████| 3588/3588 [00:37<00:00, 95.04it/s] \n"
     ]
    },
    {
     "name": "stdout",
     "output_type": "stream",
     "text": [
      "Epoch 1/10, Loss: 2.1968\n"
     ]
    },
    {
     "name": "stderr",
     "output_type": "stream",
     "text": [
      "Epoch 2/10: 100%|██████████| 3588/3588 [00:39<00:00, 90.89it/s] \n"
     ]
    },
    {
     "name": "stdout",
     "output_type": "stream",
     "text": [
      "Epoch 2/10, Loss: 2.1969\n"
     ]
    },
    {
     "name": "stderr",
     "output_type": "stream",
     "text": [
      "Epoch 3/10: 100%|██████████| 3588/3588 [00:39<00:00, 89.72it/s] \n"
     ]
    },
    {
     "name": "stdout",
     "output_type": "stream",
     "text": [
      "Epoch 3/10, Loss: 2.1968\n"
     ]
    },
    {
     "name": "stderr",
     "output_type": "stream",
     "text": [
      "Epoch 4/10: 100%|██████████| 3588/3588 [00:40<00:00, 88.58it/s]\n"
     ]
    },
    {
     "name": "stdout",
     "output_type": "stream",
     "text": [
      "Epoch 4/10, Loss: 2.1969\n"
     ]
    },
    {
     "name": "stderr",
     "output_type": "stream",
     "text": [
      "Epoch 5/10: 100%|██████████| 3588/3588 [00:41<00:00, 85.80it/s] \n"
     ]
    },
    {
     "name": "stdout",
     "output_type": "stream",
     "text": [
      "Epoch 5/10, Loss: 2.1968\n"
     ]
    },
    {
     "name": "stderr",
     "output_type": "stream",
     "text": [
      "Epoch 6/10: 100%|██████████| 3588/3588 [00:41<00:00, 87.46it/s]\n"
     ]
    },
    {
     "name": "stdout",
     "output_type": "stream",
     "text": [
      "Epoch 6/10, Loss: 2.1969\n"
     ]
    },
    {
     "name": "stderr",
     "output_type": "stream",
     "text": [
      "Epoch 7/10: 100%|██████████| 3588/3588 [00:41<00:00, 87.46it/s]\n"
     ]
    },
    {
     "name": "stdout",
     "output_type": "stream",
     "text": [
      "Epoch 7/10, Loss: 2.1968\n"
     ]
    },
    {
     "name": "stderr",
     "output_type": "stream",
     "text": [
      "Epoch 8/10: 100%|██████████| 3588/3588 [00:36<00:00, 97.48it/s] \n"
     ]
    },
    {
     "name": "stdout",
     "output_type": "stream",
     "text": [
      "Epoch 8/10, Loss: 2.1969\n"
     ]
    },
    {
     "name": "stderr",
     "output_type": "stream",
     "text": [
      "Epoch 9/10: 100%|██████████| 3588/3588 [00:39<00:00, 90.04it/s] \n"
     ]
    },
    {
     "name": "stdout",
     "output_type": "stream",
     "text": [
      "Epoch 9/10, Loss: 2.1968\n"
     ]
    },
    {
     "name": "stderr",
     "output_type": "stream",
     "text": [
      "Epoch 10/10: 100%|██████████| 3588/3588 [00:41<00:00, 85.93it/s]\n"
     ]
    },
    {
     "name": "stdout",
     "output_type": "stream",
     "text": [
      "Epoch 10/10, Loss: 2.1968\n"
     ]
    }
   ],
   "source": [
    "# Define the loss function and optimizer\n",
    "# Ensure the model is on GPU\n",
    "device = torch.device(\"cuda\" if torch.cuda.is_available() else \"cpu\")\n",
    "#device = \"cpu\"\n",
    "\n",
    "# Define loss function and optimizer\n",
    "criterion = nn.CrossEntropyLoss()\n",
    "optimizer = torch.optim.Adam(model.parameters(), lr=0.0001)\n",
    "\n",
    "# Convert data to PyTorch tensors and move to GPU\n",
    "#X_train_tensor = torch.tensor(X_train, dtype=torch.float32).to(device)\n",
    "#y_train_tensor = torch.tensor(y_train, dtype=torch.long).to(device)\n",
    "\n",
    "# Training loop\n",
    "epochs = 10\n",
    "batch_size = 1\n",
    "model1.to(device)\n",
    "\n",
    "from tqdm import tqdm  # Import tqdm for progress bar\n",
    "for epoch in range(epochs):\n",
    "    model.train()\n",
    "    epoch_loss = 0\n",
    "\n",
    "\n",
    "    for i in tqdm(range(0, len(X_train)), desc=f\"Epoch {epoch+1}/{epochs}\"):\n",
    "        X_batch = X_train[i].to(device)\n",
    "        y_batch = y_train[i]\n",
    "        optimizer.zero_grad()\n",
    "        outputs = model1(X_batch)\n",
    "        outputs = outputs.squeeze(0)\n",
    "        y_batch = torch.tensor([y_batch] * outputs.shape[0], dtype=torch.long).to(device)\n",
    "\n",
    "        loss = criterion(outputs, y_batch)\n",
    "        loss.backward()\n",
    "        optimizer.step()\n",
    "\n",
    "        epoch_loss += loss.item()\n",
    "    \n",
    "    print(f\"Epoch {epoch+1}/{epochs}, Loss: {epoch_loss/len(X_train):.4f}\")\n",
    "# Save the trained model\n",
    "torch.save(model1.state_dict(), \"classifier_model.pth\")"
   ]
  },
  {
   "cell_type": "code",
   "execution_count": 20,
   "id": "6f9c70a0",
   "metadata": {},
   "outputs": [
    {
     "name": "stdout",
     "output_type": "stream",
     "text": [
      "(897,)\n",
      "[2170  181   73 2026 1616 1027  604 1588  973  838  856 1837 2093 1504\n",
      " 1459 1063 1617 1714 1909  703  937  523 1726  752  451  329 1495 1972\n",
      " 2089 1279 2062 2165 2170  352 1450   10 2035  109 2173  788  622 1192\n",
      " 2020 2089    1  586 1175 1598  640 1747  136 1288 1894 1117 1306  316\n",
      "  284  532 1653 1351 1810 1994 1873 1234 2161 1441  140 1126 1450 1342\n",
      "  829  761 1858 1462 1549 1450 1387 1175 1382 1004 1508  338  563 1048\n",
      "  964  496 2138 1693 2044   19 1903   22  428 1976 1351 1045  379 1486\n",
      " 1165 1162  712 1414 1522  347 1912  896  514  293 2206 1477 1828  590\n",
      "   73 1333  856  163  766 2089  991  631 1216  121 1702 2089 1324 1544\n",
      " 1549  496  307 1319 1903  559 1837 1162 1702  892  541 1093 1985 1972\n",
      " 1759 1567 1027 1945  734   58 1706 1000  976  235  901  643 1324  163\n",
      "  739 1174 1108  973 1972 2215 1351 1207  392  410 1450  118 1621  127\n",
      "  688  622 1468  145  168 1918  838  667 2143 1567 1171  253  860  595\n",
      "  460 1009  491   73  217 1868  523  145  433 1621 1225   64 1675 1450\n",
      " 1873  271 2206  667  419 1900  703 1810   86  280 1498  973  613  208\n",
      " 1369  919 1787 1558 1279 1513 2035  212  634 1144  139  631 1378  847\n",
      " 2098 1378  829 1256 1936 1792  559 1351 1774 1167 1963 1615  635 1327\n",
      " 2065   40 2170   46 2008 1954   82 1427  955 1255 1004 2044 1778 1120\n",
      "  820 1531 1630 1585  910 1501  523 1225 1621  438 1351  604 1900  919\n",
      " 1597  211   86 1211 1570  289 1580  910  829  928 1644  298  451 2003\n",
      "   37  145  617 1225 1846  109  451 2089  382   13  212  757 1351 1468\n",
      "  784 2101 1846  991 1900 1612   91 1423  616 1843  298  622 1549 1846\n",
      " 1363 1639 1450  793  271   91  230  293 1765 1702  739 1855  580 1891\n",
      "  464 1882 1294  496 1216 1642  509  199  622  703  982  370  442  892\n",
      "  149  499 1900  793 2143  325 1168  163 1936 2209 1805 2089  910 2125\n",
      " 1202 1625 1819  415  100 2008  910 1130  469 2170 1855  820 1702 1126\n",
      " 2101 1450 1972 1319  181 1828  649 1873  176  636  473 1774  185 1261\n",
      " 1504   82 1405 1741  829 1949 1274 1831 2062 2047 1660 1018  433 1576\n",
      " 1864 1193 1153 2077   64    1 1342  130 1408 1507 1063 2080  730  742\n",
      "  136 1625 1720 1612 1297 1558 1243  181  832 1274 1747  487  517  892\n",
      " 1549  203  221 1594  811 1072 1009 1632 1819  892 1801 1612 1666  163\n",
      "   46  734 2093 1864 1666 1009  715 2038 1072  941  577  793  235  226\n",
      "  955 1894 1804 1954  460   64 2170 1558  550 1624 1999 1450 1903 2107\n",
      "  865  689 1275 1338 1198  208 1193  220 2071 2053  554 1405 1360 1054\n",
      " 1675 1072  553 1022 1729  685 2197 1324  532 1571 1760  190 1711  574\n",
      "  131   46 1594 1531  340 1805 1598  262  199 1876 1000 1027 2200 1006\n",
      " 1531 1957 1228  276 2134  275 2233  409  370 1477  905  221  154 1141\n",
      "  406 1922  874  986  910  766  307  879  685  266 1612  478   19 1423\n",
      " 1099   13 1864  622 1873 1000 1612 1778 1234  109 1864 1306  410 2179\n",
      " 1873 1013 1342 1841 1859 1076  212 1652 1873  496   22  784 1342 1585\n",
      " 1225 1594 2134  334  221 1855 1684  667 1891   86 1837  514 1027 2008\n",
      " 1702 2161 2161  622  757 1720 2224  244  415 2152 1657  523 1855 1774\n",
      " 1639  208  463  145 1072 1423  223  932 1040 1315 1603 1180    1  730\n",
      "  400 1855 1423 1193 1945 2161 1072 1256  415 1405  721 2026  190  487\n",
      " 1801 1171 1711  649 1216 1255  928  253 1261 2044 1666 1139 1954 1279\n",
      "  775 2008  895 1958  280  922  757 1864 1900 1945  811 2152  667 1189\n",
      " 1849  802  739  284 1675 1396 1477 2056  244  343  586  460  730 1072\n",
      "  946  892  617 2120 1162  154 1669 2125   82 1495  928 2218  851  757\n",
      " 1153 1378  163  217  500   91 1027  472 2200  847  721  151 1264 2035\n",
      " 2125 1526 1666 1174  442 1589 1270 1441 1198 1976 1099  284 1787 1729\n",
      " 1518  658 1729  113 1972   19 2107 1202 1279 1963  406  550 1441 2206\n",
      " 1120 1615 1270 1246 1198  811  140  802 2192 1738 2008 2170  347  946\n",
      "  226 1090 1918 1513 1351  361   77 1567  775  142  613 1258  334  424\n",
      "   28  739  550 1220  217 1684  643  415 2233 1288  163  802  626  518\n",
      "  451  865  307 2155  982  319  433  401 1621 1117 1810 2201 1810  595\n",
      "  568  338   91  586 1765   91  184 1927 2176  928  496  100  892 1693\n",
      " 1873 1675 1162 1949  806 1405  802 2197  928  892  604 1121 2138  883\n",
      "  613  176  194 1513 1657  730 1675  487  964 2215   82 1576  586 2089\n",
      " 1972 1873  463 1021 2183 1378  631   91  496  208 1702 1625  160 1225\n",
      "  667  545  121   94    1  442   16  739 2093  307  622 2098  766  586\n",
      "  217 2224 1369 1792  167 2053 1621 1310  775 1108  397 1252  595  491\n",
      "  244   19 1837  298 1207  262  496  784 2080  811 2053  388 1067  987\n",
      " 1490  649   40 1027  883 1765 1639 1733  631 1219 1909 1256  481  514\n",
      "  907 1864  298   46  838  433 2026  406  802 1544  361  649  824  415\n",
      " 1855]\n",
      "(897,)\n",
      "Accuracy: 0.0022\n"
     ]
    }
   ],
   "source": [
    "model.eval()\n",
    "\n",
    "# Get predictions\n",
    "with torch.no_grad():\n",
    "    y_pred = []\n",
    "    for i in range(len(X_test)):\n",
    "        X_batch = X_test[i].to(device)\n",
    "        outputs = model1(X_batch)\n",
    "        outputs = outputs.squeeze(0)\n",
    "        y_pred.append(outputs.argmax().item())\n",
    "    y_pred = np.array(y_pred)\n",
    "    y_test = np.array(y_test)\n",
    "    print(y_pred.shape)\n",
    "    print(y_pred)\n",
    "    print(y_test.shape)\n",
    "# Evaluate the model\n",
    "accuracy = np.mean(y_pred == y_test)\n",
    "print(f\"Accuracy: {accuracy:.4f}\")"
   ]
  },
  {
   "cell_type": "code",
   "execution_count": 21,
   "id": "4a84e9f2",
   "metadata": {},
   "outputs": [
    {
     "data": {
      "image/png": "[encoded data removed]",
      "text/plain": [
       "<Figure size 640x480 with 2 Axes>"
      ]
     },
     "metadata": {},
     "output_type": "display_data"
    }
   ],
   "source": [
    "cnf = confusion_matrix(y_test, y_pred, labels=range(len(lbl.classes_)))\n",
    "disp = ConfusionMatrixDisplay(confusion_matrix=cnf, display_labels=lbl.classes_)\n",
    "disp.plot()\n",
    "plt.xticks(rotation=90)\n",
    "plt.show()"
   ]
  }
 ],
 "metadata": {
  "kernelspec": {
   "display_name": "torch_gpu",
   "language": "python",
   "name": "python3"
  },
  "language_info": {
   "codemirror_mode": {
    "name": "ipython",
    "version": 3
   },
   "file_extension": ".py",
   "mimetype": "text/x-python",
   "name": "python",
   "nbconvert_exporter": "python",
   "pygments_lexer": "ipython3",
   "version": "3.10.16"
  }
 },
 "nbformat": 4,
 "nbformat_minor": 5
}
